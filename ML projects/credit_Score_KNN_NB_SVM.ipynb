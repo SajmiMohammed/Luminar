{
  "nbformat": 4,
  "nbformat_minor": 0,
  "metadata": {
    "colab": {
      "provenance": []
    },
    "kernelspec": {
      "name": "python3",
      "display_name": "Python 3"
    },
    "language_info": {
      "name": "python"
    }
  },
  "cells": [
    {
      "cell_type": "markdown",
      "source": [
        "**PROJECT 2: CREDIT-SCORE CLASSIFICATION**"
      ],
      "metadata": {
        "id": "GyrDr7L8-BaF"
      }
    },
    {
      "cell_type": "markdown",
      "source": [
        "**Importing essential Libraries.**"
      ],
      "metadata": {
        "id": "CCWH-7jC_EX6"
      }
    },
    {
      "cell_type": "code",
      "execution_count": null,
      "metadata": {
        "id": "9MRKj6_L6ykF"
      },
      "outputs": [],
      "source": [
        "import numpy as np\n",
        "import pandas as pd\n"
      ]
    },
    {
      "cell_type": "markdown",
      "source": [
        "**Loading the Dataset.**"
      ],
      "metadata": {
        "id": "mQgZ5Or-_pv1"
      }
    },
    {
      "cell_type": "code",
      "source": [
        "df=pd.read_csv('/content/Credit Score Classification Dataset.csv')\n"
      ],
      "metadata": {
        "id": "zb7Ncb9SGoVO"
      },
      "execution_count": null,
      "outputs": []
    },
    {
      "cell_type": "markdown",
      "source": [
        "**Checking the number of missing values.**"
      ],
      "metadata": {
        "id": "UQaVhylR_fXZ"
      }
    },
    {
      "cell_type": "code",
      "source": [
        "df.isna().sum()"
      ],
      "metadata": {
        "id": "GkuI5_m2G-_j",
        "colab": {
          "base_uri": "https://localhost:8080/"
        },
        "outputId": "af11ee0c-bb17-4fa6-f4d5-25352c25ce8a"
      },
      "execution_count": null,
      "outputs": [
        {
          "output_type": "execute_result",
          "data": {
            "text/plain": [
              "Age                   0\n",
              "Gender                6\n",
              "Income                9\n",
              "Education             0\n",
              "Marital Status        0\n",
              "Number of Children    0\n",
              "Home Ownership        0\n",
              "Credit Score          0\n",
              "dtype: int64"
            ]
          },
          "metadata": {},
          "execution_count": 3
        }
      ]
    },
    {
      "cell_type": "markdown",
      "source": [
        "**Columns of dataset.**"
      ],
      "metadata": {
        "id": "_YGTixe3_lZX"
      }
    },
    {
      "cell_type": "code",
      "source": [
        "df.columns"
      ],
      "metadata": {
        "id": "XZUGNeRPHFuL",
        "colab": {
          "base_uri": "https://localhost:8080/"
        },
        "outputId": "24104d6f-4ed3-4fc2-da0a-d56898af5213"
      },
      "execution_count": null,
      "outputs": [
        {
          "output_type": "execute_result",
          "data": {
            "text/plain": [
              "Index(['Age', 'Gender', 'Income', 'Education', 'Marital Status',\n",
              "       'Number of Children', 'Home Ownership', 'Credit Score'],\n",
              "      dtype='object')"
            ]
          },
          "metadata": {},
          "execution_count": 4
        }
      ]
    },
    {
      "cell_type": "markdown",
      "source": [
        "**Printing First and Last 5 rows.**"
      ],
      "metadata": {
        "id": "fKbfb9fU_0Kk"
      }
    },
    {
      "cell_type": "code",
      "source": [
        "df.head()"
      ],
      "metadata": {
        "id": "wv4SSzmWHMk2",
        "colab": {
          "base_uri": "https://localhost:8080/",
          "height": 241
        },
        "outputId": "c1f9d8a4-9062-4d25-cfeb-82d247f72bc9"
      },
      "execution_count": null,
      "outputs": [
        {
          "output_type": "execute_result",
          "data": {
            "text/plain": [
              "   Age  Gender    Income            Education Marital Status  \\\n",
              "0   25  Female   50000.0    Bachelor's Degree         Single   \n",
              "1   30    Male  100000.0      Master's Degree        Married   \n",
              "2   35  Female   75000.0            Doctorate        Married   \n",
              "3   40    Male  125000.0  High School Diploma         Single   \n",
              "4   45  Female  100000.0    Bachelor's Degree        Married   \n",
              "\n",
              "   Number of Children Home Ownership Credit Score  \n",
              "0                   0         Rented         High  \n",
              "1                   2          Owned         High  \n",
              "2                   1          Owned         High  \n",
              "3                   0          Owned         High  \n",
              "4                   3          Owned         High  "
            ],
            "text/html": [
              "\n",
              "  <div id=\"df-92cbecea-cbab-47ae-9dd3-d0516c467c12\" class=\"colab-df-container\">\n",
              "    <div>\n",
              "<style scoped>\n",
              "    .dataframe tbody tr th:only-of-type {\n",
              "        vertical-align: middle;\n",
              "    }\n",
              "\n",
              "    .dataframe tbody tr th {\n",
              "        vertical-align: top;\n",
              "    }\n",
              "\n",
              "    .dataframe thead th {\n",
              "        text-align: right;\n",
              "    }\n",
              "</style>\n",
              "<table border=\"1\" class=\"dataframe\">\n",
              "  <thead>\n",
              "    <tr style=\"text-align: right;\">\n",
              "      <th></th>\n",
              "      <th>Age</th>\n",
              "      <th>Gender</th>\n",
              "      <th>Income</th>\n",
              "      <th>Education</th>\n",
              "      <th>Marital Status</th>\n",
              "      <th>Number of Children</th>\n",
              "      <th>Home Ownership</th>\n",
              "      <th>Credit Score</th>\n",
              "    </tr>\n",
              "  </thead>\n",
              "  <tbody>\n",
              "    <tr>\n",
              "      <th>0</th>\n",
              "      <td>25</td>\n",
              "      <td>Female</td>\n",
              "      <td>50000.0</td>\n",
              "      <td>Bachelor's Degree</td>\n",
              "      <td>Single</td>\n",
              "      <td>0</td>\n",
              "      <td>Rented</td>\n",
              "      <td>High</td>\n",
              "    </tr>\n",
              "    <tr>\n",
              "      <th>1</th>\n",
              "      <td>30</td>\n",
              "      <td>Male</td>\n",
              "      <td>100000.0</td>\n",
              "      <td>Master's Degree</td>\n",
              "      <td>Married</td>\n",
              "      <td>2</td>\n",
              "      <td>Owned</td>\n",
              "      <td>High</td>\n",
              "    </tr>\n",
              "    <tr>\n",
              "      <th>2</th>\n",
              "      <td>35</td>\n",
              "      <td>Female</td>\n",
              "      <td>75000.0</td>\n",
              "      <td>Doctorate</td>\n",
              "      <td>Married</td>\n",
              "      <td>1</td>\n",
              "      <td>Owned</td>\n",
              "      <td>High</td>\n",
              "    </tr>\n",
              "    <tr>\n",
              "      <th>3</th>\n",
              "      <td>40</td>\n",
              "      <td>Male</td>\n",
              "      <td>125000.0</td>\n",
              "      <td>High School Diploma</td>\n",
              "      <td>Single</td>\n",
              "      <td>0</td>\n",
              "      <td>Owned</td>\n",
              "      <td>High</td>\n",
              "    </tr>\n",
              "    <tr>\n",
              "      <th>4</th>\n",
              "      <td>45</td>\n",
              "      <td>Female</td>\n",
              "      <td>100000.0</td>\n",
              "      <td>Bachelor's Degree</td>\n",
              "      <td>Married</td>\n",
              "      <td>3</td>\n",
              "      <td>Owned</td>\n",
              "      <td>High</td>\n",
              "    </tr>\n",
              "  </tbody>\n",
              "</table>\n",
              "</div>\n",
              "    <div class=\"colab-df-buttons\">\n",
              "\n",
              "  <div class=\"colab-df-container\">\n",
              "    <button class=\"colab-df-convert\" onclick=\"convertToInteractive('df-92cbecea-cbab-47ae-9dd3-d0516c467c12')\"\n",
              "            title=\"Convert this dataframe to an interactive table.\"\n",
              "            style=\"display:none;\">\n",
              "\n",
              "  <svg xmlns=\"http://www.w3.org/2000/svg\" height=\"24px\" viewBox=\"0 -960 960 960\">\n",
              "    <path d=\"M120-120v-720h720v720H120Zm60-500h600v-160H180v160Zm220 220h160v-160H400v160Zm0 220h160v-160H400v160ZM180-400h160v-160H180v160Zm440 0h160v-160H620v160ZM180-180h160v-160H180v160Zm440 0h160v-160H620v160Z\"/>\n",
              "  </svg>\n",
              "    </button>\n",
              "\n",
              "  <style>\n",
              "    .colab-df-container {\n",
              "      display:flex;\n",
              "      gap: 12px;\n",
              "    }\n",
              "\n",
              "    .colab-df-convert {\n",
              "      background-color: #E8F0FE;\n",
              "      border: none;\n",
              "      border-radius: 50%;\n",
              "      cursor: pointer;\n",
              "      display: none;\n",
              "      fill: #1967D2;\n",
              "      height: 32px;\n",
              "      padding: 0 0 0 0;\n",
              "      width: 32px;\n",
              "    }\n",
              "\n",
              "    .colab-df-convert:hover {\n",
              "      background-color: #E2EBFA;\n",
              "      box-shadow: 0px 1px 2px rgba(60, 64, 67, 0.3), 0px 1px 3px 1px rgba(60, 64, 67, 0.15);\n",
              "      fill: #174EA6;\n",
              "    }\n",
              "\n",
              "    .colab-df-buttons div {\n",
              "      margin-bottom: 4px;\n",
              "    }\n",
              "\n",
              "    [theme=dark] .colab-df-convert {\n",
              "      background-color: #3B4455;\n",
              "      fill: #D2E3FC;\n",
              "    }\n",
              "\n",
              "    [theme=dark] .colab-df-convert:hover {\n",
              "      background-color: #434B5C;\n",
              "      box-shadow: 0px 1px 3px 1px rgba(0, 0, 0, 0.15);\n",
              "      filter: drop-shadow(0px 1px 2px rgba(0, 0, 0, 0.3));\n",
              "      fill: #FFFFFF;\n",
              "    }\n",
              "  </style>\n",
              "\n",
              "    <script>\n",
              "      const buttonEl =\n",
              "        document.querySelector('#df-92cbecea-cbab-47ae-9dd3-d0516c467c12 button.colab-df-convert');\n",
              "      buttonEl.style.display =\n",
              "        google.colab.kernel.accessAllowed ? 'block' : 'none';\n",
              "\n",
              "      async function convertToInteractive(key) {\n",
              "        const element = document.querySelector('#df-92cbecea-cbab-47ae-9dd3-d0516c467c12');\n",
              "        const dataTable =\n",
              "          await google.colab.kernel.invokeFunction('convertToInteractive',\n",
              "                                                    [key], {});\n",
              "        if (!dataTable) return;\n",
              "\n",
              "        const docLinkHtml = 'Like what you see? Visit the ' +\n",
              "          '<a target=\"_blank\" href=https://colab.research.google.com/notebooks/data_table.ipynb>data table notebook</a>'\n",
              "          + ' to learn more about interactive tables.';\n",
              "        element.innerHTML = '';\n",
              "        dataTable['output_type'] = 'display_data';\n",
              "        await google.colab.output.renderOutput(dataTable, element);\n",
              "        const docLink = document.createElement('div');\n",
              "        docLink.innerHTML = docLinkHtml;\n",
              "        element.appendChild(docLink);\n",
              "      }\n",
              "    </script>\n",
              "  </div>\n",
              "\n",
              "\n",
              "<div id=\"df-a1050bf1-c5de-43b8-a85c-c03973dfb6c3\">\n",
              "  <button class=\"colab-df-quickchart\" onclick=\"quickchart('df-a1050bf1-c5de-43b8-a85c-c03973dfb6c3')\"\n",
              "            title=\"Suggest charts.\"\n",
              "            style=\"display:none;\">\n",
              "\n",
              "<svg xmlns=\"http://www.w3.org/2000/svg\" height=\"24px\"viewBox=\"0 0 24 24\"\n",
              "     width=\"24px\">\n",
              "    <g>\n",
              "        <path d=\"M19 3H5c-1.1 0-2 .9-2 2v14c0 1.1.9 2 2 2h14c1.1 0 2-.9 2-2V5c0-1.1-.9-2-2-2zM9 17H7v-7h2v7zm4 0h-2V7h2v10zm4 0h-2v-4h2v4z\"/>\n",
              "    </g>\n",
              "</svg>\n",
              "  </button>\n",
              "\n",
              "<style>\n",
              "  .colab-df-quickchart {\n",
              "      --bg-color: #E8F0FE;\n",
              "      --fill-color: #1967D2;\n",
              "      --hover-bg-color: #E2EBFA;\n",
              "      --hover-fill-color: #174EA6;\n",
              "      --disabled-fill-color: #AAA;\n",
              "      --disabled-bg-color: #DDD;\n",
              "  }\n",
              "\n",
              "  [theme=dark] .colab-df-quickchart {\n",
              "      --bg-color: #3B4455;\n",
              "      --fill-color: #D2E3FC;\n",
              "      --hover-bg-color: #434B5C;\n",
              "      --hover-fill-color: #FFFFFF;\n",
              "      --disabled-bg-color: #3B4455;\n",
              "      --disabled-fill-color: #666;\n",
              "  }\n",
              "\n",
              "  .colab-df-quickchart {\n",
              "    background-color: var(--bg-color);\n",
              "    border: none;\n",
              "    border-radius: 50%;\n",
              "    cursor: pointer;\n",
              "    display: none;\n",
              "    fill: var(--fill-color);\n",
              "    height: 32px;\n",
              "    padding: 0;\n",
              "    width: 32px;\n",
              "  }\n",
              "\n",
              "  .colab-df-quickchart:hover {\n",
              "    background-color: var(--hover-bg-color);\n",
              "    box-shadow: 0 1px 2px rgba(60, 64, 67, 0.3), 0 1px 3px 1px rgba(60, 64, 67, 0.15);\n",
              "    fill: var(--button-hover-fill-color);\n",
              "  }\n",
              "\n",
              "  .colab-df-quickchart-complete:disabled,\n",
              "  .colab-df-quickchart-complete:disabled:hover {\n",
              "    background-color: var(--disabled-bg-color);\n",
              "    fill: var(--disabled-fill-color);\n",
              "    box-shadow: none;\n",
              "  }\n",
              "\n",
              "  .colab-df-spinner {\n",
              "    border: 2px solid var(--fill-color);\n",
              "    border-color: transparent;\n",
              "    border-bottom-color: var(--fill-color);\n",
              "    animation:\n",
              "      spin 1s steps(1) infinite;\n",
              "  }\n",
              "\n",
              "  @keyframes spin {\n",
              "    0% {\n",
              "      border-color: transparent;\n",
              "      border-bottom-color: var(--fill-color);\n",
              "      border-left-color: var(--fill-color);\n",
              "    }\n",
              "    20% {\n",
              "      border-color: transparent;\n",
              "      border-left-color: var(--fill-color);\n",
              "      border-top-color: var(--fill-color);\n",
              "    }\n",
              "    30% {\n",
              "      border-color: transparent;\n",
              "      border-left-color: var(--fill-color);\n",
              "      border-top-color: var(--fill-color);\n",
              "      border-right-color: var(--fill-color);\n",
              "    }\n",
              "    40% {\n",
              "      border-color: transparent;\n",
              "      border-right-color: var(--fill-color);\n",
              "      border-top-color: var(--fill-color);\n",
              "    }\n",
              "    60% {\n",
              "      border-color: transparent;\n",
              "      border-right-color: var(--fill-color);\n",
              "    }\n",
              "    80% {\n",
              "      border-color: transparent;\n",
              "      border-right-color: var(--fill-color);\n",
              "      border-bottom-color: var(--fill-color);\n",
              "    }\n",
              "    90% {\n",
              "      border-color: transparent;\n",
              "      border-bottom-color: var(--fill-color);\n",
              "    }\n",
              "  }\n",
              "</style>\n",
              "\n",
              "  <script>\n",
              "    async function quickchart(key) {\n",
              "      const quickchartButtonEl =\n",
              "        document.querySelector('#' + key + ' button');\n",
              "      quickchartButtonEl.disabled = true;  // To prevent multiple clicks.\n",
              "      quickchartButtonEl.classList.add('colab-df-spinner');\n",
              "      try {\n",
              "        const charts = await google.colab.kernel.invokeFunction(\n",
              "            'suggestCharts', [key], {});\n",
              "      } catch (error) {\n",
              "        console.error('Error during call to suggestCharts:', error);\n",
              "      }\n",
              "      quickchartButtonEl.classList.remove('colab-df-spinner');\n",
              "      quickchartButtonEl.classList.add('colab-df-quickchart-complete');\n",
              "    }\n",
              "    (() => {\n",
              "      let quickchartButtonEl =\n",
              "        document.querySelector('#df-a1050bf1-c5de-43b8-a85c-c03973dfb6c3 button');\n",
              "      quickchartButtonEl.style.display =\n",
              "        google.colab.kernel.accessAllowed ? 'block' : 'none';\n",
              "    })();\n",
              "  </script>\n",
              "</div>\n",
              "    </div>\n",
              "  </div>\n"
            ]
          },
          "metadata": {},
          "execution_count": 5
        }
      ]
    },
    {
      "cell_type": "code",
      "source": [
        "df.tail()"
      ],
      "metadata": {
        "id": "zH7oCaWUHVI9",
        "colab": {
          "base_uri": "https://localhost:8080/",
          "height": 276
        },
        "outputId": "46461560-4d30-457b-dbdc-5ffe0461ed3b"
      },
      "execution_count": null,
      "outputs": [
        {
          "output_type": "execute_result",
          "data": {
            "text/plain": [
              "     Age  Gender   Income            Education Marital Status  \\\n",
              "159   29  Female  27500.0  High School Diploma         Single   \n",
              "160   34    Male  47500.0   Associate's Degree         Single   \n",
              "161   39  Female  62500.0    Bachelor's Degree        Married   \n",
              "162   44    Male  87500.0      Master's Degree         Single   \n",
              "163   49  Female  77500.0            Doctorate        Married   \n",
              "\n",
              "     Number of Children Home Ownership Credit Score  \n",
              "159                   0         Rented          Low  \n",
              "160                   0         Rented      Average  \n",
              "161                   2          Owned         High  \n",
              "162                   0          Owned         High  \n",
              "163                   1          Owned         High  "
            ],
            "text/html": [
              "\n",
              "  <div id=\"df-e7305d76-9107-4b44-b978-033be2154374\" class=\"colab-df-container\">\n",
              "    <div>\n",
              "<style scoped>\n",
              "    .dataframe tbody tr th:only-of-type {\n",
              "        vertical-align: middle;\n",
              "    }\n",
              "\n",
              "    .dataframe tbody tr th {\n",
              "        vertical-align: top;\n",
              "    }\n",
              "\n",
              "    .dataframe thead th {\n",
              "        text-align: right;\n",
              "    }\n",
              "</style>\n",
              "<table border=\"1\" class=\"dataframe\">\n",
              "  <thead>\n",
              "    <tr style=\"text-align: right;\">\n",
              "      <th></th>\n",
              "      <th>Age</th>\n",
              "      <th>Gender</th>\n",
              "      <th>Income</th>\n",
              "      <th>Education</th>\n",
              "      <th>Marital Status</th>\n",
              "      <th>Number of Children</th>\n",
              "      <th>Home Ownership</th>\n",
              "      <th>Credit Score</th>\n",
              "    </tr>\n",
              "  </thead>\n",
              "  <tbody>\n",
              "    <tr>\n",
              "      <th>159</th>\n",
              "      <td>29</td>\n",
              "      <td>Female</td>\n",
              "      <td>27500.0</td>\n",
              "      <td>High School Diploma</td>\n",
              "      <td>Single</td>\n",
              "      <td>0</td>\n",
              "      <td>Rented</td>\n",
              "      <td>Low</td>\n",
              "    </tr>\n",
              "    <tr>\n",
              "      <th>160</th>\n",
              "      <td>34</td>\n",
              "      <td>Male</td>\n",
              "      <td>47500.0</td>\n",
              "      <td>Associate's Degree</td>\n",
              "      <td>Single</td>\n",
              "      <td>0</td>\n",
              "      <td>Rented</td>\n",
              "      <td>Average</td>\n",
              "    </tr>\n",
              "    <tr>\n",
              "      <th>161</th>\n",
              "      <td>39</td>\n",
              "      <td>Female</td>\n",
              "      <td>62500.0</td>\n",
              "      <td>Bachelor's Degree</td>\n",
              "      <td>Married</td>\n",
              "      <td>2</td>\n",
              "      <td>Owned</td>\n",
              "      <td>High</td>\n",
              "    </tr>\n",
              "    <tr>\n",
              "      <th>162</th>\n",
              "      <td>44</td>\n",
              "      <td>Male</td>\n",
              "      <td>87500.0</td>\n",
              "      <td>Master's Degree</td>\n",
              "      <td>Single</td>\n",
              "      <td>0</td>\n",
              "      <td>Owned</td>\n",
              "      <td>High</td>\n",
              "    </tr>\n",
              "    <tr>\n",
              "      <th>163</th>\n",
              "      <td>49</td>\n",
              "      <td>Female</td>\n",
              "      <td>77500.0</td>\n",
              "      <td>Doctorate</td>\n",
              "      <td>Married</td>\n",
              "      <td>1</td>\n",
              "      <td>Owned</td>\n",
              "      <td>High</td>\n",
              "    </tr>\n",
              "  </tbody>\n",
              "</table>\n",
              "</div>\n",
              "    <div class=\"colab-df-buttons\">\n",
              "\n",
              "  <div class=\"colab-df-container\">\n",
              "    <button class=\"colab-df-convert\" onclick=\"convertToInteractive('df-e7305d76-9107-4b44-b978-033be2154374')\"\n",
              "            title=\"Convert this dataframe to an interactive table.\"\n",
              "            style=\"display:none;\">\n",
              "\n",
              "  <svg xmlns=\"http://www.w3.org/2000/svg\" height=\"24px\" viewBox=\"0 -960 960 960\">\n",
              "    <path d=\"M120-120v-720h720v720H120Zm60-500h600v-160H180v160Zm220 220h160v-160H400v160Zm0 220h160v-160H400v160ZM180-400h160v-160H180v160Zm440 0h160v-160H620v160ZM180-180h160v-160H180v160Zm440 0h160v-160H620v160Z\"/>\n",
              "  </svg>\n",
              "    </button>\n",
              "\n",
              "  <style>\n",
              "    .colab-df-container {\n",
              "      display:flex;\n",
              "      gap: 12px;\n",
              "    }\n",
              "\n",
              "    .colab-df-convert {\n",
              "      background-color: #E8F0FE;\n",
              "      border: none;\n",
              "      border-radius: 50%;\n",
              "      cursor: pointer;\n",
              "      display: none;\n",
              "      fill: #1967D2;\n",
              "      height: 32px;\n",
              "      padding: 0 0 0 0;\n",
              "      width: 32px;\n",
              "    }\n",
              "\n",
              "    .colab-df-convert:hover {\n",
              "      background-color: #E2EBFA;\n",
              "      box-shadow: 0px 1px 2px rgba(60, 64, 67, 0.3), 0px 1px 3px 1px rgba(60, 64, 67, 0.15);\n",
              "      fill: #174EA6;\n",
              "    }\n",
              "\n",
              "    .colab-df-buttons div {\n",
              "      margin-bottom: 4px;\n",
              "    }\n",
              "\n",
              "    [theme=dark] .colab-df-convert {\n",
              "      background-color: #3B4455;\n",
              "      fill: #D2E3FC;\n",
              "    }\n",
              "\n",
              "    [theme=dark] .colab-df-convert:hover {\n",
              "      background-color: #434B5C;\n",
              "      box-shadow: 0px 1px 3px 1px rgba(0, 0, 0, 0.15);\n",
              "      filter: drop-shadow(0px 1px 2px rgba(0, 0, 0, 0.3));\n",
              "      fill: #FFFFFF;\n",
              "    }\n",
              "  </style>\n",
              "\n",
              "    <script>\n",
              "      const buttonEl =\n",
              "        document.querySelector('#df-e7305d76-9107-4b44-b978-033be2154374 button.colab-df-convert');\n",
              "      buttonEl.style.display =\n",
              "        google.colab.kernel.accessAllowed ? 'block' : 'none';\n",
              "\n",
              "      async function convertToInteractive(key) {\n",
              "        const element = document.querySelector('#df-e7305d76-9107-4b44-b978-033be2154374');\n",
              "        const dataTable =\n",
              "          await google.colab.kernel.invokeFunction('convertToInteractive',\n",
              "                                                    [key], {});\n",
              "        if (!dataTable) return;\n",
              "\n",
              "        const docLinkHtml = 'Like what you see? Visit the ' +\n",
              "          '<a target=\"_blank\" href=https://colab.research.google.com/notebooks/data_table.ipynb>data table notebook</a>'\n",
              "          + ' to learn more about interactive tables.';\n",
              "        element.innerHTML = '';\n",
              "        dataTable['output_type'] = 'display_data';\n",
              "        await google.colab.output.renderOutput(dataTable, element);\n",
              "        const docLink = document.createElement('div');\n",
              "        docLink.innerHTML = docLinkHtml;\n",
              "        element.appendChild(docLink);\n",
              "      }\n",
              "    </script>\n",
              "  </div>\n",
              "\n",
              "\n",
              "<div id=\"df-84b1b6dc-f7ba-4fcf-a462-b5df75c87e35\">\n",
              "  <button class=\"colab-df-quickchart\" onclick=\"quickchart('df-84b1b6dc-f7ba-4fcf-a462-b5df75c87e35')\"\n",
              "            title=\"Suggest charts.\"\n",
              "            style=\"display:none;\">\n",
              "\n",
              "<svg xmlns=\"http://www.w3.org/2000/svg\" height=\"24px\"viewBox=\"0 0 24 24\"\n",
              "     width=\"24px\">\n",
              "    <g>\n",
              "        <path d=\"M19 3H5c-1.1 0-2 .9-2 2v14c0 1.1.9 2 2 2h14c1.1 0 2-.9 2-2V5c0-1.1-.9-2-2-2zM9 17H7v-7h2v7zm4 0h-2V7h2v10zm4 0h-2v-4h2v4z\"/>\n",
              "    </g>\n",
              "</svg>\n",
              "  </button>\n",
              "\n",
              "<style>\n",
              "  .colab-df-quickchart {\n",
              "      --bg-color: #E8F0FE;\n",
              "      --fill-color: #1967D2;\n",
              "      --hover-bg-color: #E2EBFA;\n",
              "      --hover-fill-color: #174EA6;\n",
              "      --disabled-fill-color: #AAA;\n",
              "      --disabled-bg-color: #DDD;\n",
              "  }\n",
              "\n",
              "  [theme=dark] .colab-df-quickchart {\n",
              "      --bg-color: #3B4455;\n",
              "      --fill-color: #D2E3FC;\n",
              "      --hover-bg-color: #434B5C;\n",
              "      --hover-fill-color: #FFFFFF;\n",
              "      --disabled-bg-color: #3B4455;\n",
              "      --disabled-fill-color: #666;\n",
              "  }\n",
              "\n",
              "  .colab-df-quickchart {\n",
              "    background-color: var(--bg-color);\n",
              "    border: none;\n",
              "    border-radius: 50%;\n",
              "    cursor: pointer;\n",
              "    display: none;\n",
              "    fill: var(--fill-color);\n",
              "    height: 32px;\n",
              "    padding: 0;\n",
              "    width: 32px;\n",
              "  }\n",
              "\n",
              "  .colab-df-quickchart:hover {\n",
              "    background-color: var(--hover-bg-color);\n",
              "    box-shadow: 0 1px 2px rgba(60, 64, 67, 0.3), 0 1px 3px 1px rgba(60, 64, 67, 0.15);\n",
              "    fill: var(--button-hover-fill-color);\n",
              "  }\n",
              "\n",
              "  .colab-df-quickchart-complete:disabled,\n",
              "  .colab-df-quickchart-complete:disabled:hover {\n",
              "    background-color: var(--disabled-bg-color);\n",
              "    fill: var(--disabled-fill-color);\n",
              "    box-shadow: none;\n",
              "  }\n",
              "\n",
              "  .colab-df-spinner {\n",
              "    border: 2px solid var(--fill-color);\n",
              "    border-color: transparent;\n",
              "    border-bottom-color: var(--fill-color);\n",
              "    animation:\n",
              "      spin 1s steps(1) infinite;\n",
              "  }\n",
              "\n",
              "  @keyframes spin {\n",
              "    0% {\n",
              "      border-color: transparent;\n",
              "      border-bottom-color: var(--fill-color);\n",
              "      border-left-color: var(--fill-color);\n",
              "    }\n",
              "    20% {\n",
              "      border-color: transparent;\n",
              "      border-left-color: var(--fill-color);\n",
              "      border-top-color: var(--fill-color);\n",
              "    }\n",
              "    30% {\n",
              "      border-color: transparent;\n",
              "      border-left-color: var(--fill-color);\n",
              "      border-top-color: var(--fill-color);\n",
              "      border-right-color: var(--fill-color);\n",
              "    }\n",
              "    40% {\n",
              "      border-color: transparent;\n",
              "      border-right-color: var(--fill-color);\n",
              "      border-top-color: var(--fill-color);\n",
              "    }\n",
              "    60% {\n",
              "      border-color: transparent;\n",
              "      border-right-color: var(--fill-color);\n",
              "    }\n",
              "    80% {\n",
              "      border-color: transparent;\n",
              "      border-right-color: var(--fill-color);\n",
              "      border-bottom-color: var(--fill-color);\n",
              "    }\n",
              "    90% {\n",
              "      border-color: transparent;\n",
              "      border-bottom-color: var(--fill-color);\n",
              "    }\n",
              "  }\n",
              "</style>\n",
              "\n",
              "  <script>\n",
              "    async function quickchart(key) {\n",
              "      const quickchartButtonEl =\n",
              "        document.querySelector('#' + key + ' button');\n",
              "      quickchartButtonEl.disabled = true;  // To prevent multiple clicks.\n",
              "      quickchartButtonEl.classList.add('colab-df-spinner');\n",
              "      try {\n",
              "        const charts = await google.colab.kernel.invokeFunction(\n",
              "            'suggestCharts', [key], {});\n",
              "      } catch (error) {\n",
              "        console.error('Error during call to suggestCharts:', error);\n",
              "      }\n",
              "      quickchartButtonEl.classList.remove('colab-df-spinner');\n",
              "      quickchartButtonEl.classList.add('colab-df-quickchart-complete');\n",
              "    }\n",
              "    (() => {\n",
              "      let quickchartButtonEl =\n",
              "        document.querySelector('#df-84b1b6dc-f7ba-4fcf-a462-b5df75c87e35 button');\n",
              "      quickchartButtonEl.style.display =\n",
              "        google.colab.kernel.accessAllowed ? 'block' : 'none';\n",
              "    })();\n",
              "  </script>\n",
              "</div>\n",
              "    </div>\n",
              "  </div>\n"
            ]
          },
          "metadata": {},
          "execution_count": 6
        }
      ]
    },
    {
      "cell_type": "markdown",
      "source": [
        "**Datatype of each column.**"
      ],
      "metadata": {
        "id": "caNkKUzA_7y5"
      }
    },
    {
      "cell_type": "code",
      "source": [
        "df.dtypes"
      ],
      "metadata": {
        "id": "cKpVLScwHZsl",
        "colab": {
          "base_uri": "https://localhost:8080/"
        },
        "outputId": "60e10a6a-76ee-48cd-e9a8-d67f2896fecb"
      },
      "execution_count": null,
      "outputs": [
        {
          "output_type": "execute_result",
          "data": {
            "text/plain": [
              "Age                     int64\n",
              "Gender                 object\n",
              "Income                float64\n",
              "Education              object\n",
              "Marital Status         object\n",
              "Number of Children      int64\n",
              "Home Ownership         object\n",
              "Credit Score           object\n",
              "dtype: object"
            ]
          },
          "metadata": {},
          "execution_count": 7
        }
      ]
    },
    {
      "cell_type": "markdown",
      "source": [
        "**Shape of Dataset.**"
      ],
      "metadata": {
        "id": "WehRpuiUAoUD"
      }
    },
    {
      "cell_type": "code",
      "source": [
        "df.shape"
      ],
      "metadata": {
        "id": "QbmoKIy7HIpR",
        "colab": {
          "base_uri": "https://localhost:8080/"
        },
        "outputId": "386efaf5-7419-49f5-cc76-8d2e1fda3c33"
      },
      "execution_count": null,
      "outputs": [
        {
          "output_type": "execute_result",
          "data": {
            "text/plain": [
              "(164, 8)"
            ]
          },
          "metadata": {},
          "execution_count": 8
        }
      ]
    },
    {
      "cell_type": "code",
      "source": [
        "df.describe()"
      ],
      "metadata": {
        "colab": {
          "base_uri": "https://localhost:8080/",
          "height": 318
        },
        "id": "t7gsiBdm9xOT",
        "outputId": "fc10adab-5540-4aa8-a557-2de2caf8c766"
      },
      "execution_count": null,
      "outputs": [
        {
          "output_type": "execute_result",
          "data": {
            "text/plain": [
              "              Age      Gender         Income   Education  Marital Status  \\\n",
              "count  164.000000  164.000000     164.000000  164.000000      164.000000   \n",
              "mean    37.975610    0.457317   83871.951220    2.060976        0.469512   \n",
              "std      8.477289    0.499701   31287.731673    1.391010        0.500598   \n",
              "min     25.000000    0.000000   25000.000000    0.000000        0.000000   \n",
              "25%     30.750000    0.000000   60000.000000    1.000000        0.000000   \n",
              "50%     37.000000    0.000000   82500.000000    2.000000        0.000000   \n",
              "75%     45.000000    1.000000  105000.000000    3.000000        1.000000   \n",
              "max     53.000000    1.000000  162500.000000    4.000000        1.000000   \n",
              "\n",
              "       Number of Children  Home Ownership  \n",
              "count          164.000000      164.000000  \n",
              "mean             0.652439        0.323171  \n",
              "std              0.883346        0.469120  \n",
              "min              0.000000        0.000000  \n",
              "25%              0.000000        0.000000  \n",
              "50%              0.000000        0.000000  \n",
              "75%              1.000000        1.000000  \n",
              "max              3.000000        1.000000  "
            ],
            "text/html": [
              "\n",
              "  <div id=\"df-d0894524-ab7f-4b2e-a87a-1837a9a45fb3\" class=\"colab-df-container\">\n",
              "    <div>\n",
              "<style scoped>\n",
              "    .dataframe tbody tr th:only-of-type {\n",
              "        vertical-align: middle;\n",
              "    }\n",
              "\n",
              "    .dataframe tbody tr th {\n",
              "        vertical-align: top;\n",
              "    }\n",
              "\n",
              "    .dataframe thead th {\n",
              "        text-align: right;\n",
              "    }\n",
              "</style>\n",
              "<table border=\"1\" class=\"dataframe\">\n",
              "  <thead>\n",
              "    <tr style=\"text-align: right;\">\n",
              "      <th></th>\n",
              "      <th>Age</th>\n",
              "      <th>Gender</th>\n",
              "      <th>Income</th>\n",
              "      <th>Education</th>\n",
              "      <th>Marital Status</th>\n",
              "      <th>Number of Children</th>\n",
              "      <th>Home Ownership</th>\n",
              "    </tr>\n",
              "  </thead>\n",
              "  <tbody>\n",
              "    <tr>\n",
              "      <th>count</th>\n",
              "      <td>164.000000</td>\n",
              "      <td>164.000000</td>\n",
              "      <td>164.000000</td>\n",
              "      <td>164.000000</td>\n",
              "      <td>164.000000</td>\n",
              "      <td>164.000000</td>\n",
              "      <td>164.000000</td>\n",
              "    </tr>\n",
              "    <tr>\n",
              "      <th>mean</th>\n",
              "      <td>37.975610</td>\n",
              "      <td>0.457317</td>\n",
              "      <td>83871.951220</td>\n",
              "      <td>2.060976</td>\n",
              "      <td>0.469512</td>\n",
              "      <td>0.652439</td>\n",
              "      <td>0.323171</td>\n",
              "    </tr>\n",
              "    <tr>\n",
              "      <th>std</th>\n",
              "      <td>8.477289</td>\n",
              "      <td>0.499701</td>\n",
              "      <td>31287.731673</td>\n",
              "      <td>1.391010</td>\n",
              "      <td>0.500598</td>\n",
              "      <td>0.883346</td>\n",
              "      <td>0.469120</td>\n",
              "    </tr>\n",
              "    <tr>\n",
              "      <th>min</th>\n",
              "      <td>25.000000</td>\n",
              "      <td>0.000000</td>\n",
              "      <td>25000.000000</td>\n",
              "      <td>0.000000</td>\n",
              "      <td>0.000000</td>\n",
              "      <td>0.000000</td>\n",
              "      <td>0.000000</td>\n",
              "    </tr>\n",
              "    <tr>\n",
              "      <th>25%</th>\n",
              "      <td>30.750000</td>\n",
              "      <td>0.000000</td>\n",
              "      <td>60000.000000</td>\n",
              "      <td>1.000000</td>\n",
              "      <td>0.000000</td>\n",
              "      <td>0.000000</td>\n",
              "      <td>0.000000</td>\n",
              "    </tr>\n",
              "    <tr>\n",
              "      <th>50%</th>\n",
              "      <td>37.000000</td>\n",
              "      <td>0.000000</td>\n",
              "      <td>82500.000000</td>\n",
              "      <td>2.000000</td>\n",
              "      <td>0.000000</td>\n",
              "      <td>0.000000</td>\n",
              "      <td>0.000000</td>\n",
              "    </tr>\n",
              "    <tr>\n",
              "      <th>75%</th>\n",
              "      <td>45.000000</td>\n",
              "      <td>1.000000</td>\n",
              "      <td>105000.000000</td>\n",
              "      <td>3.000000</td>\n",
              "      <td>1.000000</td>\n",
              "      <td>1.000000</td>\n",
              "      <td>1.000000</td>\n",
              "    </tr>\n",
              "    <tr>\n",
              "      <th>max</th>\n",
              "      <td>53.000000</td>\n",
              "      <td>1.000000</td>\n",
              "      <td>162500.000000</td>\n",
              "      <td>4.000000</td>\n",
              "      <td>1.000000</td>\n",
              "      <td>3.000000</td>\n",
              "      <td>1.000000</td>\n",
              "    </tr>\n",
              "  </tbody>\n",
              "</table>\n",
              "</div>\n",
              "    <div class=\"colab-df-buttons\">\n",
              "\n",
              "  <div class=\"colab-df-container\">\n",
              "    <button class=\"colab-df-convert\" onclick=\"convertToInteractive('df-d0894524-ab7f-4b2e-a87a-1837a9a45fb3')\"\n",
              "            title=\"Convert this dataframe to an interactive table.\"\n",
              "            style=\"display:none;\">\n",
              "\n",
              "  <svg xmlns=\"http://www.w3.org/2000/svg\" height=\"24px\" viewBox=\"0 -960 960 960\">\n",
              "    <path d=\"M120-120v-720h720v720H120Zm60-500h600v-160H180v160Zm220 220h160v-160H400v160Zm0 220h160v-160H400v160ZM180-400h160v-160H180v160Zm440 0h160v-160H620v160ZM180-180h160v-160H180v160Zm440 0h160v-160H620v160Z\"/>\n",
              "  </svg>\n",
              "    </button>\n",
              "\n",
              "  <style>\n",
              "    .colab-df-container {\n",
              "      display:flex;\n",
              "      gap: 12px;\n",
              "    }\n",
              "\n",
              "    .colab-df-convert {\n",
              "      background-color: #E8F0FE;\n",
              "      border: none;\n",
              "      border-radius: 50%;\n",
              "      cursor: pointer;\n",
              "      display: none;\n",
              "      fill: #1967D2;\n",
              "      height: 32px;\n",
              "      padding: 0 0 0 0;\n",
              "      width: 32px;\n",
              "    }\n",
              "\n",
              "    .colab-df-convert:hover {\n",
              "      background-color: #E2EBFA;\n",
              "      box-shadow: 0px 1px 2px rgba(60, 64, 67, 0.3), 0px 1px 3px 1px rgba(60, 64, 67, 0.15);\n",
              "      fill: #174EA6;\n",
              "    }\n",
              "\n",
              "    .colab-df-buttons div {\n",
              "      margin-bottom: 4px;\n",
              "    }\n",
              "\n",
              "    [theme=dark] .colab-df-convert {\n",
              "      background-color: #3B4455;\n",
              "      fill: #D2E3FC;\n",
              "    }\n",
              "\n",
              "    [theme=dark] .colab-df-convert:hover {\n",
              "      background-color: #434B5C;\n",
              "      box-shadow: 0px 1px 3px 1px rgba(0, 0, 0, 0.15);\n",
              "      filter: drop-shadow(0px 1px 2px rgba(0, 0, 0, 0.3));\n",
              "      fill: #FFFFFF;\n",
              "    }\n",
              "  </style>\n",
              "\n",
              "    <script>\n",
              "      const buttonEl =\n",
              "        document.querySelector('#df-d0894524-ab7f-4b2e-a87a-1837a9a45fb3 button.colab-df-convert');\n",
              "      buttonEl.style.display =\n",
              "        google.colab.kernel.accessAllowed ? 'block' : 'none';\n",
              "\n",
              "      async function convertToInteractive(key) {\n",
              "        const element = document.querySelector('#df-d0894524-ab7f-4b2e-a87a-1837a9a45fb3');\n",
              "        const dataTable =\n",
              "          await google.colab.kernel.invokeFunction('convertToInteractive',\n",
              "                                                    [key], {});\n",
              "        if (!dataTable) return;\n",
              "\n",
              "        const docLinkHtml = 'Like what you see? Visit the ' +\n",
              "          '<a target=\"_blank\" href=https://colab.research.google.com/notebooks/data_table.ipynb>data table notebook</a>'\n",
              "          + ' to learn more about interactive tables.';\n",
              "        element.innerHTML = '';\n",
              "        dataTable['output_type'] = 'display_data';\n",
              "        await google.colab.output.renderOutput(dataTable, element);\n",
              "        const docLink = document.createElement('div');\n",
              "        docLink.innerHTML = docLinkHtml;\n",
              "        element.appendChild(docLink);\n",
              "      }\n",
              "    </script>\n",
              "  </div>\n",
              "\n",
              "\n",
              "<div id=\"df-ac984ffd-b400-4596-b5b5-0a3381173849\">\n",
              "  <button class=\"colab-df-quickchart\" onclick=\"quickchart('df-ac984ffd-b400-4596-b5b5-0a3381173849')\"\n",
              "            title=\"Suggest charts.\"\n",
              "            style=\"display:none;\">\n",
              "\n",
              "<svg xmlns=\"http://www.w3.org/2000/svg\" height=\"24px\"viewBox=\"0 0 24 24\"\n",
              "     width=\"24px\">\n",
              "    <g>\n",
              "        <path d=\"M19 3H5c-1.1 0-2 .9-2 2v14c0 1.1.9 2 2 2h14c1.1 0 2-.9 2-2V5c0-1.1-.9-2-2-2zM9 17H7v-7h2v7zm4 0h-2V7h2v10zm4 0h-2v-4h2v4z\"/>\n",
              "    </g>\n",
              "</svg>\n",
              "  </button>\n",
              "\n",
              "<style>\n",
              "  .colab-df-quickchart {\n",
              "      --bg-color: #E8F0FE;\n",
              "      --fill-color: #1967D2;\n",
              "      --hover-bg-color: #E2EBFA;\n",
              "      --hover-fill-color: #174EA6;\n",
              "      --disabled-fill-color: #AAA;\n",
              "      --disabled-bg-color: #DDD;\n",
              "  }\n",
              "\n",
              "  [theme=dark] .colab-df-quickchart {\n",
              "      --bg-color: #3B4455;\n",
              "      --fill-color: #D2E3FC;\n",
              "      --hover-bg-color: #434B5C;\n",
              "      --hover-fill-color: #FFFFFF;\n",
              "      --disabled-bg-color: #3B4455;\n",
              "      --disabled-fill-color: #666;\n",
              "  }\n",
              "\n",
              "  .colab-df-quickchart {\n",
              "    background-color: var(--bg-color);\n",
              "    border: none;\n",
              "    border-radius: 50%;\n",
              "    cursor: pointer;\n",
              "    display: none;\n",
              "    fill: var(--fill-color);\n",
              "    height: 32px;\n",
              "    padding: 0;\n",
              "    width: 32px;\n",
              "  }\n",
              "\n",
              "  .colab-df-quickchart:hover {\n",
              "    background-color: var(--hover-bg-color);\n",
              "    box-shadow: 0 1px 2px rgba(60, 64, 67, 0.3), 0 1px 3px 1px rgba(60, 64, 67, 0.15);\n",
              "    fill: var(--button-hover-fill-color);\n",
              "  }\n",
              "\n",
              "  .colab-df-quickchart-complete:disabled,\n",
              "  .colab-df-quickchart-complete:disabled:hover {\n",
              "    background-color: var(--disabled-bg-color);\n",
              "    fill: var(--disabled-fill-color);\n",
              "    box-shadow: none;\n",
              "  }\n",
              "\n",
              "  .colab-df-spinner {\n",
              "    border: 2px solid var(--fill-color);\n",
              "    border-color: transparent;\n",
              "    border-bottom-color: var(--fill-color);\n",
              "    animation:\n",
              "      spin 1s steps(1) infinite;\n",
              "  }\n",
              "\n",
              "  @keyframes spin {\n",
              "    0% {\n",
              "      border-color: transparent;\n",
              "      border-bottom-color: var(--fill-color);\n",
              "      border-left-color: var(--fill-color);\n",
              "    }\n",
              "    20% {\n",
              "      border-color: transparent;\n",
              "      border-left-color: var(--fill-color);\n",
              "      border-top-color: var(--fill-color);\n",
              "    }\n",
              "    30% {\n",
              "      border-color: transparent;\n",
              "      border-left-color: var(--fill-color);\n",
              "      border-top-color: var(--fill-color);\n",
              "      border-right-color: var(--fill-color);\n",
              "    }\n",
              "    40% {\n",
              "      border-color: transparent;\n",
              "      border-right-color: var(--fill-color);\n",
              "      border-top-color: var(--fill-color);\n",
              "    }\n",
              "    60% {\n",
              "      border-color: transparent;\n",
              "      border-right-color: var(--fill-color);\n",
              "    }\n",
              "    80% {\n",
              "      border-color: transparent;\n",
              "      border-right-color: var(--fill-color);\n",
              "      border-bottom-color: var(--fill-color);\n",
              "    }\n",
              "    90% {\n",
              "      border-color: transparent;\n",
              "      border-bottom-color: var(--fill-color);\n",
              "    }\n",
              "  }\n",
              "</style>\n",
              "\n",
              "  <script>\n",
              "    async function quickchart(key) {\n",
              "      const quickchartButtonEl =\n",
              "        document.querySelector('#' + key + ' button');\n",
              "      quickchartButtonEl.disabled = true;  // To prevent multiple clicks.\n",
              "      quickchartButtonEl.classList.add('colab-df-spinner');\n",
              "      try {\n",
              "        const charts = await google.colab.kernel.invokeFunction(\n",
              "            'suggestCharts', [key], {});\n",
              "      } catch (error) {\n",
              "        console.error('Error during call to suggestCharts:', error);\n",
              "      }\n",
              "      quickchartButtonEl.classList.remove('colab-df-spinner');\n",
              "      quickchartButtonEl.classList.add('colab-df-quickchart-complete');\n",
              "    }\n",
              "    (() => {\n",
              "      let quickchartButtonEl =\n",
              "        document.querySelector('#df-ac984ffd-b400-4596-b5b5-0a3381173849 button');\n",
              "      quickchartButtonEl.style.display =\n",
              "        google.colab.kernel.accessAllowed ? 'block' : 'none';\n",
              "    })();\n",
              "  </script>\n",
              "</div>\n",
              "    </div>\n",
              "  </div>\n"
            ]
          },
          "metadata": {},
          "execution_count": 27
        }
      ]
    },
    {
      "cell_type": "markdown",
      "source": [
        "**Encoding the Dataset.**"
      ],
      "metadata": {
        "id": "ERRrTh_lA1Tu"
      }
    },
    {
      "cell_type": "code",
      "source": [
        "df['Gender']=df['Gender'].fillna(df['Gender'].mode()[0])\n",
        "df.isna().sum()"
      ],
      "metadata": {
        "id": "i79QiWdrHcyu",
        "colab": {
          "base_uri": "https://localhost:8080/"
        },
        "outputId": "fb9cefe2-b018-4d9f-b475-385e57eb8c6c"
      },
      "execution_count": null,
      "outputs": [
        {
          "output_type": "execute_result",
          "data": {
            "text/plain": [
              "Age                   0\n",
              "Gender                0\n",
              "Income                9\n",
              "Education             0\n",
              "Marital Status        0\n",
              "Number of Children    0\n",
              "Home Ownership        0\n",
              "Credit Score          0\n",
              "dtype: int64"
            ]
          },
          "metadata": {},
          "execution_count": 9
        }
      ]
    },
    {
      "cell_type": "code",
      "source": [
        "df['Income']=df['Income'].fillna(df['Income'].median())\n",
        "df.isna().sum()"
      ],
      "metadata": {
        "id": "Q--Qt5xVJqOT",
        "colab": {
          "base_uri": "https://localhost:8080/"
        },
        "outputId": "df6568ed-b2f8-40db-d927-94bb59621f56"
      },
      "execution_count": null,
      "outputs": [
        {
          "output_type": "execute_result",
          "data": {
            "text/plain": [
              "Age                   0\n",
              "Gender                0\n",
              "Income                0\n",
              "Education             0\n",
              "Marital Status        0\n",
              "Number of Children    0\n",
              "Home Ownership        0\n",
              "Credit Score          0\n",
              "dtype: int64"
            ]
          },
          "metadata": {},
          "execution_count": 10
        }
      ]
    },
    {
      "cell_type": "code",
      "source": [
        "from sklearn.preprocessing import LabelEncoder\n",
        "le=LabelEncoder()\n",
        "df['Gender']=le.fit_transform(df['Gender'])\n",
        "df['Education']=le.fit_transform(df['Education'])\n",
        "df['Marital Status']=le.fit_transform(df['Marital Status'])\n",
        "df['Home Ownership']=le.fit_transform(df['Home Ownership'])\n",
        "df\n"
      ],
      "metadata": {
        "id": "zjnUDYJhKEkJ",
        "colab": {
          "base_uri": "https://localhost:8080/",
          "height": 441
        },
        "outputId": "0071b186-3e67-46cd-bc16-c9f563e915e9"
      },
      "execution_count": null,
      "outputs": [
        {
          "output_type": "execute_result",
          "data": {
            "text/plain": [
              "     Age  Gender    Income  Education  Marital Status  Number of Children  \\\n",
              "0     25       0   50000.0          1               1                   0   \n",
              "1     30       1  100000.0          4               0                   2   \n",
              "2     35       0   75000.0          2               0                   1   \n",
              "3     40       1  125000.0          3               1                   0   \n",
              "4     45       0  100000.0          1               0                   3   \n",
              "..   ...     ...       ...        ...             ...                 ...   \n",
              "159   29       0   27500.0          3               1                   0   \n",
              "160   34       1   47500.0          0               1                   0   \n",
              "161   39       0   62500.0          1               0                   2   \n",
              "162   44       1   87500.0          4               1                   0   \n",
              "163   49       0   77500.0          2               0                   1   \n",
              "\n",
              "     Home Ownership Credit Score  \n",
              "0                 1         High  \n",
              "1                 0         High  \n",
              "2                 0         High  \n",
              "3                 0         High  \n",
              "4                 0         High  \n",
              "..              ...          ...  \n",
              "159               1          Low  \n",
              "160               1      Average  \n",
              "161               0         High  \n",
              "162               0         High  \n",
              "163               0         High  \n",
              "\n",
              "[164 rows x 8 columns]"
            ],
            "text/html": [
              "\n",
              "  <div id=\"df-7f131f89-80c1-418a-9631-bf42275b44b5\" class=\"colab-df-container\">\n",
              "    <div>\n",
              "<style scoped>\n",
              "    .dataframe tbody tr th:only-of-type {\n",
              "        vertical-align: middle;\n",
              "    }\n",
              "\n",
              "    .dataframe tbody tr th {\n",
              "        vertical-align: top;\n",
              "    }\n",
              "\n",
              "    .dataframe thead th {\n",
              "        text-align: right;\n",
              "    }\n",
              "</style>\n",
              "<table border=\"1\" class=\"dataframe\">\n",
              "  <thead>\n",
              "    <tr style=\"text-align: right;\">\n",
              "      <th></th>\n",
              "      <th>Age</th>\n",
              "      <th>Gender</th>\n",
              "      <th>Income</th>\n",
              "      <th>Education</th>\n",
              "      <th>Marital Status</th>\n",
              "      <th>Number of Children</th>\n",
              "      <th>Home Ownership</th>\n",
              "      <th>Credit Score</th>\n",
              "    </tr>\n",
              "  </thead>\n",
              "  <tbody>\n",
              "    <tr>\n",
              "      <th>0</th>\n",
              "      <td>25</td>\n",
              "      <td>0</td>\n",
              "      <td>50000.0</td>\n",
              "      <td>1</td>\n",
              "      <td>1</td>\n",
              "      <td>0</td>\n",
              "      <td>1</td>\n",
              "      <td>High</td>\n",
              "    </tr>\n",
              "    <tr>\n",
              "      <th>1</th>\n",
              "      <td>30</td>\n",
              "      <td>1</td>\n",
              "      <td>100000.0</td>\n",
              "      <td>4</td>\n",
              "      <td>0</td>\n",
              "      <td>2</td>\n",
              "      <td>0</td>\n",
              "      <td>High</td>\n",
              "    </tr>\n",
              "    <tr>\n",
              "      <th>2</th>\n",
              "      <td>35</td>\n",
              "      <td>0</td>\n",
              "      <td>75000.0</td>\n",
              "      <td>2</td>\n",
              "      <td>0</td>\n",
              "      <td>1</td>\n",
              "      <td>0</td>\n",
              "      <td>High</td>\n",
              "    </tr>\n",
              "    <tr>\n",
              "      <th>3</th>\n",
              "      <td>40</td>\n",
              "      <td>1</td>\n",
              "      <td>125000.0</td>\n",
              "      <td>3</td>\n",
              "      <td>1</td>\n",
              "      <td>0</td>\n",
              "      <td>0</td>\n",
              "      <td>High</td>\n",
              "    </tr>\n",
              "    <tr>\n",
              "      <th>4</th>\n",
              "      <td>45</td>\n",
              "      <td>0</td>\n",
              "      <td>100000.0</td>\n",
              "      <td>1</td>\n",
              "      <td>0</td>\n",
              "      <td>3</td>\n",
              "      <td>0</td>\n",
              "      <td>High</td>\n",
              "    </tr>\n",
              "    <tr>\n",
              "      <th>...</th>\n",
              "      <td>...</td>\n",
              "      <td>...</td>\n",
              "      <td>...</td>\n",
              "      <td>...</td>\n",
              "      <td>...</td>\n",
              "      <td>...</td>\n",
              "      <td>...</td>\n",
              "      <td>...</td>\n",
              "    </tr>\n",
              "    <tr>\n",
              "      <th>159</th>\n",
              "      <td>29</td>\n",
              "      <td>0</td>\n",
              "      <td>27500.0</td>\n",
              "      <td>3</td>\n",
              "      <td>1</td>\n",
              "      <td>0</td>\n",
              "      <td>1</td>\n",
              "      <td>Low</td>\n",
              "    </tr>\n",
              "    <tr>\n",
              "      <th>160</th>\n",
              "      <td>34</td>\n",
              "      <td>1</td>\n",
              "      <td>47500.0</td>\n",
              "      <td>0</td>\n",
              "      <td>1</td>\n",
              "      <td>0</td>\n",
              "      <td>1</td>\n",
              "      <td>Average</td>\n",
              "    </tr>\n",
              "    <tr>\n",
              "      <th>161</th>\n",
              "      <td>39</td>\n",
              "      <td>0</td>\n",
              "      <td>62500.0</td>\n",
              "      <td>1</td>\n",
              "      <td>0</td>\n",
              "      <td>2</td>\n",
              "      <td>0</td>\n",
              "      <td>High</td>\n",
              "    </tr>\n",
              "    <tr>\n",
              "      <th>162</th>\n",
              "      <td>44</td>\n",
              "      <td>1</td>\n",
              "      <td>87500.0</td>\n",
              "      <td>4</td>\n",
              "      <td>1</td>\n",
              "      <td>0</td>\n",
              "      <td>0</td>\n",
              "      <td>High</td>\n",
              "    </tr>\n",
              "    <tr>\n",
              "      <th>163</th>\n",
              "      <td>49</td>\n",
              "      <td>0</td>\n",
              "      <td>77500.0</td>\n",
              "      <td>2</td>\n",
              "      <td>0</td>\n",
              "      <td>1</td>\n",
              "      <td>0</td>\n",
              "      <td>High</td>\n",
              "    </tr>\n",
              "  </tbody>\n",
              "</table>\n",
              "<p>164 rows × 8 columns</p>\n",
              "</div>\n",
              "    <div class=\"colab-df-buttons\">\n",
              "\n",
              "  <div class=\"colab-df-container\">\n",
              "    <button class=\"colab-df-convert\" onclick=\"convertToInteractive('df-7f131f89-80c1-418a-9631-bf42275b44b5')\"\n",
              "            title=\"Convert this dataframe to an interactive table.\"\n",
              "            style=\"display:none;\">\n",
              "\n",
              "  <svg xmlns=\"http://www.w3.org/2000/svg\" height=\"24px\" viewBox=\"0 -960 960 960\">\n",
              "    <path d=\"M120-120v-720h720v720H120Zm60-500h600v-160H180v160Zm220 220h160v-160H400v160Zm0 220h160v-160H400v160ZM180-400h160v-160H180v160Zm440 0h160v-160H620v160ZM180-180h160v-160H180v160Zm440 0h160v-160H620v160Z\"/>\n",
              "  </svg>\n",
              "    </button>\n",
              "\n",
              "  <style>\n",
              "    .colab-df-container {\n",
              "      display:flex;\n",
              "      gap: 12px;\n",
              "    }\n",
              "\n",
              "    .colab-df-convert {\n",
              "      background-color: #E8F0FE;\n",
              "      border: none;\n",
              "      border-radius: 50%;\n",
              "      cursor: pointer;\n",
              "      display: none;\n",
              "      fill: #1967D2;\n",
              "      height: 32px;\n",
              "      padding: 0 0 0 0;\n",
              "      width: 32px;\n",
              "    }\n",
              "\n",
              "    .colab-df-convert:hover {\n",
              "      background-color: #E2EBFA;\n",
              "      box-shadow: 0px 1px 2px rgba(60, 64, 67, 0.3), 0px 1px 3px 1px rgba(60, 64, 67, 0.15);\n",
              "      fill: #174EA6;\n",
              "    }\n",
              "\n",
              "    .colab-df-buttons div {\n",
              "      margin-bottom: 4px;\n",
              "    }\n",
              "\n",
              "    [theme=dark] .colab-df-convert {\n",
              "      background-color: #3B4455;\n",
              "      fill: #D2E3FC;\n",
              "    }\n",
              "\n",
              "    [theme=dark] .colab-df-convert:hover {\n",
              "      background-color: #434B5C;\n",
              "      box-shadow: 0px 1px 3px 1px rgba(0, 0, 0, 0.15);\n",
              "      filter: drop-shadow(0px 1px 2px rgba(0, 0, 0, 0.3));\n",
              "      fill: #FFFFFF;\n",
              "    }\n",
              "  </style>\n",
              "\n",
              "    <script>\n",
              "      const buttonEl =\n",
              "        document.querySelector('#df-7f131f89-80c1-418a-9631-bf42275b44b5 button.colab-df-convert');\n",
              "      buttonEl.style.display =\n",
              "        google.colab.kernel.accessAllowed ? 'block' : 'none';\n",
              "\n",
              "      async function convertToInteractive(key) {\n",
              "        const element = document.querySelector('#df-7f131f89-80c1-418a-9631-bf42275b44b5');\n",
              "        const dataTable =\n",
              "          await google.colab.kernel.invokeFunction('convertToInteractive',\n",
              "                                                    [key], {});\n",
              "        if (!dataTable) return;\n",
              "\n",
              "        const docLinkHtml = 'Like what you see? Visit the ' +\n",
              "          '<a target=\"_blank\" href=https://colab.research.google.com/notebooks/data_table.ipynb>data table notebook</a>'\n",
              "          + ' to learn more about interactive tables.';\n",
              "        element.innerHTML = '';\n",
              "        dataTable['output_type'] = 'display_data';\n",
              "        await google.colab.output.renderOutput(dataTable, element);\n",
              "        const docLink = document.createElement('div');\n",
              "        docLink.innerHTML = docLinkHtml;\n",
              "        element.appendChild(docLink);\n",
              "      }\n",
              "    </script>\n",
              "  </div>\n",
              "\n",
              "\n",
              "<div id=\"df-38358f87-691e-4fe1-a3f1-b03cf1e9879e\">\n",
              "  <button class=\"colab-df-quickchart\" onclick=\"quickchart('df-38358f87-691e-4fe1-a3f1-b03cf1e9879e')\"\n",
              "            title=\"Suggest charts.\"\n",
              "            style=\"display:none;\">\n",
              "\n",
              "<svg xmlns=\"http://www.w3.org/2000/svg\" height=\"24px\"viewBox=\"0 0 24 24\"\n",
              "     width=\"24px\">\n",
              "    <g>\n",
              "        <path d=\"M19 3H5c-1.1 0-2 .9-2 2v14c0 1.1.9 2 2 2h14c1.1 0 2-.9 2-2V5c0-1.1-.9-2-2-2zM9 17H7v-7h2v7zm4 0h-2V7h2v10zm4 0h-2v-4h2v4z\"/>\n",
              "    </g>\n",
              "</svg>\n",
              "  </button>\n",
              "\n",
              "<style>\n",
              "  .colab-df-quickchart {\n",
              "      --bg-color: #E8F0FE;\n",
              "      --fill-color: #1967D2;\n",
              "      --hover-bg-color: #E2EBFA;\n",
              "      --hover-fill-color: #174EA6;\n",
              "      --disabled-fill-color: #AAA;\n",
              "      --disabled-bg-color: #DDD;\n",
              "  }\n",
              "\n",
              "  [theme=dark] .colab-df-quickchart {\n",
              "      --bg-color: #3B4455;\n",
              "      --fill-color: #D2E3FC;\n",
              "      --hover-bg-color: #434B5C;\n",
              "      --hover-fill-color: #FFFFFF;\n",
              "      --disabled-bg-color: #3B4455;\n",
              "      --disabled-fill-color: #666;\n",
              "  }\n",
              "\n",
              "  .colab-df-quickchart {\n",
              "    background-color: var(--bg-color);\n",
              "    border: none;\n",
              "    border-radius: 50%;\n",
              "    cursor: pointer;\n",
              "    display: none;\n",
              "    fill: var(--fill-color);\n",
              "    height: 32px;\n",
              "    padding: 0;\n",
              "    width: 32px;\n",
              "  }\n",
              "\n",
              "  .colab-df-quickchart:hover {\n",
              "    background-color: var(--hover-bg-color);\n",
              "    box-shadow: 0 1px 2px rgba(60, 64, 67, 0.3), 0 1px 3px 1px rgba(60, 64, 67, 0.15);\n",
              "    fill: var(--button-hover-fill-color);\n",
              "  }\n",
              "\n",
              "  .colab-df-quickchart-complete:disabled,\n",
              "  .colab-df-quickchart-complete:disabled:hover {\n",
              "    background-color: var(--disabled-bg-color);\n",
              "    fill: var(--disabled-fill-color);\n",
              "    box-shadow: none;\n",
              "  }\n",
              "\n",
              "  .colab-df-spinner {\n",
              "    border: 2px solid var(--fill-color);\n",
              "    border-color: transparent;\n",
              "    border-bottom-color: var(--fill-color);\n",
              "    animation:\n",
              "      spin 1s steps(1) infinite;\n",
              "  }\n",
              "\n",
              "  @keyframes spin {\n",
              "    0% {\n",
              "      border-color: transparent;\n",
              "      border-bottom-color: var(--fill-color);\n",
              "      border-left-color: var(--fill-color);\n",
              "    }\n",
              "    20% {\n",
              "      border-color: transparent;\n",
              "      border-left-color: var(--fill-color);\n",
              "      border-top-color: var(--fill-color);\n",
              "    }\n",
              "    30% {\n",
              "      border-color: transparent;\n",
              "      border-left-color: var(--fill-color);\n",
              "      border-top-color: var(--fill-color);\n",
              "      border-right-color: var(--fill-color);\n",
              "    }\n",
              "    40% {\n",
              "      border-color: transparent;\n",
              "      border-right-color: var(--fill-color);\n",
              "      border-top-color: var(--fill-color);\n",
              "    }\n",
              "    60% {\n",
              "      border-color: transparent;\n",
              "      border-right-color: var(--fill-color);\n",
              "    }\n",
              "    80% {\n",
              "      border-color: transparent;\n",
              "      border-right-color: var(--fill-color);\n",
              "      border-bottom-color: var(--fill-color);\n",
              "    }\n",
              "    90% {\n",
              "      border-color: transparent;\n",
              "      border-bottom-color: var(--fill-color);\n",
              "    }\n",
              "  }\n",
              "</style>\n",
              "\n",
              "  <script>\n",
              "    async function quickchart(key) {\n",
              "      const quickchartButtonEl =\n",
              "        document.querySelector('#' + key + ' button');\n",
              "      quickchartButtonEl.disabled = true;  // To prevent multiple clicks.\n",
              "      quickchartButtonEl.classList.add('colab-df-spinner');\n",
              "      try {\n",
              "        const charts = await google.colab.kernel.invokeFunction(\n",
              "            'suggestCharts', [key], {});\n",
              "      } catch (error) {\n",
              "        console.error('Error during call to suggestCharts:', error);\n",
              "      }\n",
              "      quickchartButtonEl.classList.remove('colab-df-spinner');\n",
              "      quickchartButtonEl.classList.add('colab-df-quickchart-complete');\n",
              "    }\n",
              "    (() => {\n",
              "      let quickchartButtonEl =\n",
              "        document.querySelector('#df-38358f87-691e-4fe1-a3f1-b03cf1e9879e button');\n",
              "      quickchartButtonEl.style.display =\n",
              "        google.colab.kernel.accessAllowed ? 'block' : 'none';\n",
              "    })();\n",
              "  </script>\n",
              "</div>\n",
              "    </div>\n",
              "  </div>\n"
            ]
          },
          "metadata": {},
          "execution_count": 11
        }
      ]
    },
    {
      "cell_type": "markdown",
      "source": [
        "**Seperating x as input label and y as output label.**"
      ],
      "metadata": {
        "id": "ySuz1ABaA4tF"
      }
    },
    {
      "cell_type": "code",
      "source": [
        "x=df.iloc[:,:-1].values\n",
        "y=df.iloc[:,-1].values"
      ],
      "metadata": {
        "id": "Ram6IDdLNyaz"
      },
      "execution_count": null,
      "outputs": []
    },
    {
      "cell_type": "markdown",
      "source": [
        "**Splitting the dataset into Training and Testing Data.**"
      ],
      "metadata": {
        "id": "KFDc7A3UA9fL"
      }
    },
    {
      "cell_type": "code",
      "source": [
        "from sklearn.model_selection import train_test_split\n",
        "x_train,x_test,y_train,y_test=train_test_split(x,y,test_size=0.30,random_state=42)\n",
        "y_train"
      ],
      "metadata": {
        "id": "NKLHwYWrsVYh",
        "colab": {
          "base_uri": "https://localhost:8080/"
        },
        "outputId": "f05961f2-6d08-4f46-cab4-7184477b6a2c"
      },
      "execution_count": null,
      "outputs": [
        {
          "output_type": "execute_result",
          "data": {
            "text/plain": [
              "array(['High', 'High', 'High', 'Average', 'Average', 'High', 'High',\n",
              "       'Average', 'High', 'Low', 'High', 'High', 'High', 'High', 'High',\n",
              "       'Average', 'High', 'High', 'Low', 'High', 'Average', 'High',\n",
              "       'High', 'High', 'High', 'High', 'High', 'High', 'Average', 'High',\n",
              "       'High', 'High', 'Low', 'High', 'Average', 'High', 'Low', 'High',\n",
              "       'Low', 'High', 'Average', 'Low', 'High', 'Average', 'High',\n",
              "       'Average', 'High', 'High', 'Average', 'High', 'Low', 'High',\n",
              "       'Average', 'High', 'High', 'High', 'Average', 'Average', 'High',\n",
              "       'High', 'High', 'Average', 'High', 'High', 'Average', 'High',\n",
              "       'High', 'High', 'Low', 'Average', 'High', 'High', 'High', 'High',\n",
              "       'Average', 'High', 'High', 'High', 'High', 'High', 'High', 'High',\n",
              "       'High', 'High', 'Average', 'High', 'High', 'High', 'Average',\n",
              "       'Average', 'High', 'High', 'High', 'High', 'High', 'High',\n",
              "       'Average', 'High', 'High', 'High', 'High', 'High', 'Average',\n",
              "       'High', 'High', 'Average', 'High', 'High', 'High', 'High',\n",
              "       'Average', 'High', 'High', 'High'], dtype=object)"
            ]
          },
          "metadata": {},
          "execution_count": 13
        }
      ]
    },
    {
      "cell_type": "code",
      "source": [
        "x_train"
      ],
      "metadata": {
        "id": "76P6qo6oS548",
        "colab": {
          "base_uri": "https://localhost:8080/"
        },
        "outputId": "1b670dec-146d-4e62-c858-57430b579893"
      },
      "execution_count": null,
      "outputs": [
        {
          "output_type": "execute_result",
          "data": {
            "text/plain": [
              "array([[4.500e+01, 0.000e+00, 1.150e+05, 1.000e+00, 0.000e+00, 3.000e+00,\n",
              "        0.000e+00],\n",
              "       [5.100e+01, 1.000e+00, 1.350e+05, 1.000e+00, 0.000e+00, 0.000e+00,\n",
              "        0.000e+00],\n",
              "       [4.500e+01, 0.000e+00, 1.100e+05, 1.000e+00, 0.000e+00, 3.000e+00,\n",
              "        0.000e+00],\n",
              "       [3.400e+01, 1.000e+00, 4.750e+04, 0.000e+00, 1.000e+00, 0.000e+00,\n",
              "        1.000e+00],\n",
              "       [2.600e+01, 0.000e+00, 4.000e+04, 0.000e+00, 1.000e+00, 0.000e+00,\n",
              "        1.000e+00],\n",
              "       [4.400e+01, 1.000e+00, 7.500e+04, 4.000e+00, 1.000e+00, 0.000e+00,\n",
              "        0.000e+00],\n",
              "       [4.200e+01, 1.000e+00, 1.050e+05, 4.000e+00, 1.000e+00, 0.000e+00,\n",
              "        0.000e+00],\n",
              "       [3.100e+01, 1.000e+00, 6.500e+04, 1.000e+00, 1.000e+00, 0.000e+00,\n",
              "        1.000e+00],\n",
              "       [4.100e+01, 1.000e+00, 1.100e+05, 2.000e+00, 1.000e+00, 0.000e+00,\n",
              "        0.000e+00],\n",
              "       [2.700e+01, 0.000e+00, 3.750e+04, 3.000e+00, 1.000e+00, 0.000e+00,\n",
              "        1.000e+00],\n",
              "       [4.500e+01, 0.000e+00, 1.000e+05, 1.000e+00, 0.000e+00, 3.000e+00,\n",
              "        0.000e+00],\n",
              "       [4.000e+01, 1.000e+00, 1.300e+05, 3.000e+00, 1.000e+00, 0.000e+00,\n",
              "        0.000e+00],\n",
              "       [4.000e+01, 1.000e+00, 1.300e+05, 3.000e+00, 1.000e+00, 0.000e+00,\n",
              "        0.000e+00],\n",
              "       [4.100e+01, 1.000e+00, 1.100e+05, 2.000e+00, 1.000e+00, 0.000e+00,\n",
              "        0.000e+00],\n",
              "       [4.700e+01, 0.000e+00, 8.250e+04, 2.000e+00, 0.000e+00, 1.000e+00,\n",
              "        0.000e+00],\n",
              "       [3.100e+01, 1.000e+00, 6.750e+04, 1.000e+00, 1.000e+00, 0.000e+00,\n",
              "        1.000e+00],\n",
              "       [4.600e+01, 0.000e+00, 9.000e+04, 3.000e+00, 0.000e+00, 1.000e+00,\n",
              "        0.000e+00],\n",
              "       [4.000e+01, 1.000e+00, 1.425e+05, 3.000e+00, 1.000e+00, 0.000e+00,\n",
              "        0.000e+00],\n",
              "       [2.800e+01, 0.000e+00, 8.250e+04, 0.000e+00, 1.000e+00, 0.000e+00,\n",
              "        1.000e+00],\n",
              "       [2.500e+01, 0.000e+00, 5.000e+04, 1.000e+00, 1.000e+00, 0.000e+00,\n",
              "        1.000e+00],\n",
              "       [2.500e+01, 0.000e+00, 5.750e+04, 1.000e+00, 1.000e+00, 0.000e+00,\n",
              "        1.000e+00],\n",
              "       [3.000e+01, 1.000e+00, 1.125e+05, 4.000e+00, 0.000e+00, 2.000e+00,\n",
              "        0.000e+00],\n",
              "       [4.000e+01, 1.000e+00, 1.425e+05, 3.000e+00, 1.000e+00, 0.000e+00,\n",
              "        0.000e+00],\n",
              "       [4.200e+01, 1.000e+00, 1.000e+05, 4.000e+00, 1.000e+00, 0.000e+00,\n",
              "        0.000e+00],\n",
              "       [5.100e+01, 1.000e+00, 1.400e+05, 1.000e+00, 0.000e+00, 0.000e+00,\n",
              "        0.000e+00],\n",
              "       [4.900e+01, 0.000e+00, 6.500e+04, 2.000e+00, 0.000e+00, 1.000e+00,\n",
              "        0.000e+00],\n",
              "       [5.100e+01, 1.000e+00, 1.400e+05, 1.000e+00, 0.000e+00, 0.000e+00,\n",
              "        0.000e+00],\n",
              "       [4.300e+01, 1.000e+00, 8.250e+04, 4.000e+00, 1.000e+00, 0.000e+00,\n",
              "        0.000e+00],\n",
              "       [3.400e+01, 1.000e+00, 4.500e+04, 0.000e+00, 1.000e+00, 0.000e+00,\n",
              "        1.000e+00],\n",
              "       [5.300e+01, 1.000e+00, 1.150e+05, 0.000e+00, 0.000e+00, 0.000e+00,\n",
              "        0.000e+00],\n",
              "       [3.900e+01, 0.000e+00, 6.250e+04, 1.000e+00, 0.000e+00, 2.000e+00,\n",
              "        0.000e+00],\n",
              "       [3.800e+01, 0.000e+00, 6.750e+04, 1.000e+00, 0.000e+00, 2.000e+00,\n",
              "        0.000e+00],\n",
              "       [2.800e+01, 0.000e+00, 3.250e+04, 0.000e+00, 1.000e+00, 0.000e+00,\n",
              "        1.000e+00],\n",
              "       [4.600e+01, 0.000e+00, 9.500e+04, 3.000e+00, 0.000e+00, 1.000e+00,\n",
              "        0.000e+00],\n",
              "       [2.500e+01, 0.000e+00, 5.750e+04, 1.000e+00, 1.000e+00, 0.000e+00,\n",
              "        1.000e+00],\n",
              "       [4.200e+01, 1.000e+00, 1.100e+05, 4.000e+00, 1.000e+00, 0.000e+00,\n",
              "        0.000e+00],\n",
              "       [2.900e+01, 0.000e+00, 2.750e+04, 3.000e+00, 1.000e+00, 0.000e+00,\n",
              "        1.000e+00],\n",
              "       [3.500e+01, 0.000e+00, 8.000e+04, 2.000e+00, 0.000e+00, 1.000e+00,\n",
              "        0.000e+00],\n",
              "       [2.800e+01, 0.000e+00, 3.250e+04, 0.000e+00, 1.000e+00, 0.000e+00,\n",
              "        1.000e+00],\n",
              "       [3.500e+01, 0.000e+00, 8.500e+04, 2.000e+00, 0.000e+00, 1.000e+00,\n",
              "        0.000e+00],\n",
              "       [2.500e+01, 0.000e+00, 6.000e+04, 1.000e+00, 1.000e+00, 0.000e+00,\n",
              "        1.000e+00],\n",
              "       [2.700e+01, 0.000e+00, 3.750e+04, 3.000e+00, 1.000e+00, 0.000e+00,\n",
              "        1.000e+00],\n",
              "       [4.500e+01, 0.000e+00, 1.050e+05, 1.000e+00, 0.000e+00, 3.000e+00,\n",
              "        0.000e+00],\n",
              "       [3.300e+01, 1.000e+00, 8.250e+04, 3.000e+00, 1.000e+00, 0.000e+00,\n",
              "        1.000e+00],\n",
              "       [4.400e+01, 1.000e+00, 8.750e+04, 4.000e+00, 1.000e+00, 0.000e+00,\n",
              "        0.000e+00],\n",
              "       [2.800e+01, 1.000e+00, 7.500e+04, 1.000e+00, 1.000e+00, 0.000e+00,\n",
              "        1.000e+00],\n",
              "       [3.000e+01, 1.000e+00, 1.175e+05, 4.000e+00, 0.000e+00, 2.000e+00,\n",
              "        0.000e+00],\n",
              "       [4.400e+01, 1.000e+00, 8.750e+04, 4.000e+00, 1.000e+00, 0.000e+00,\n",
              "        0.000e+00],\n",
              "       [3.100e+01, 1.000e+00, 7.000e+04, 1.000e+00, 1.000e+00, 0.000e+00,\n",
              "        1.000e+00],\n",
              "       [5.100e+01, 1.000e+00, 1.500e+05, 1.000e+00, 0.000e+00, 0.000e+00,\n",
              "        0.000e+00],\n",
              "       [2.900e+01, 0.000e+00, 2.750e+04, 3.000e+00, 1.000e+00, 0.000e+00,\n",
              "        1.000e+00],\n",
              "       [5.000e+01, 1.000e+00, 1.500e+05, 4.000e+00, 0.000e+00, 0.000e+00,\n",
              "        0.000e+00],\n",
              "       [3.400e+01, 1.000e+00, 4.750e+04, 0.000e+00, 1.000e+00, 0.000e+00,\n",
              "        1.000e+00],\n",
              "       [3.500e+01, 0.000e+00, 9.000e+04, 2.000e+00, 0.000e+00, 1.000e+00,\n",
              "        0.000e+00],\n",
              "       [4.700e+01, 0.000e+00, 9.000e+04, 2.000e+00, 0.000e+00, 1.000e+00,\n",
              "        0.000e+00],\n",
              "       [3.800e+01, 0.000e+00, 6.750e+04, 1.000e+00, 0.000e+00, 2.000e+00,\n",
              "        0.000e+00],\n",
              "       [2.600e+01, 0.000e+00, 4.500e+04, 0.000e+00, 1.000e+00, 0.000e+00,\n",
              "        1.000e+00],\n",
              "       [3.300e+01, 1.000e+00, 5.250e+04, 3.000e+00, 1.000e+00, 0.000e+00,\n",
              "        1.000e+00],\n",
              "       [4.700e+01, 0.000e+00, 9.500e+04, 2.000e+00, 0.000e+00, 1.000e+00,\n",
              "        0.000e+00],\n",
              "       [5.000e+01, 1.000e+00, 1.550e+05, 4.000e+00, 0.000e+00, 0.000e+00,\n",
              "        0.000e+00],\n",
              "       [5.200e+01, 1.000e+00, 1.300e+05, 3.000e+00, 0.000e+00, 0.000e+00,\n",
              "        0.000e+00],\n",
              "       [3.100e+01, 1.000e+00, 6.000e+04, 1.000e+00, 1.000e+00, 0.000e+00,\n",
              "        1.000e+00],\n",
              "       [3.700e+01, 0.000e+00, 7.250e+04, 1.000e+00, 0.000e+00, 2.000e+00,\n",
              "        0.000e+00],\n",
              "       [4.100e+01, 1.000e+00, 1.150e+05, 2.000e+00, 1.000e+00, 0.000e+00,\n",
              "        0.000e+00],\n",
              "       [2.500e+01, 0.000e+00, 6.000e+04, 1.000e+00, 1.000e+00, 0.000e+00,\n",
              "        1.000e+00],\n",
              "       [5.200e+01, 1.000e+00, 8.250e+04, 3.000e+00, 0.000e+00, 0.000e+00,\n",
              "        0.000e+00],\n",
              "       [3.000e+01, 1.000e+00, 1.125e+05, 4.000e+00, 0.000e+00, 2.000e+00,\n",
              "        0.000e+00],\n",
              "       [4.800e+01, 0.000e+00, 8.500e+04, 2.000e+00, 0.000e+00, 1.000e+00,\n",
              "        0.000e+00],\n",
              "       [2.700e+01, 0.000e+00, 3.750e+04, 3.000e+00, 1.000e+00, 0.000e+00,\n",
              "        1.000e+00],\n",
              "       [3.200e+01, 1.000e+00, 5.750e+04, 0.000e+00, 1.000e+00, 0.000e+00,\n",
              "        1.000e+00],\n",
              "       [4.900e+01, 0.000e+00, 7.750e+04, 2.000e+00, 0.000e+00, 1.000e+00,\n",
              "        0.000e+00],\n",
              "       [3.600e+01, 0.000e+00, 8.000e+04, 4.000e+00, 0.000e+00, 2.000e+00,\n",
              "        0.000e+00],\n",
              "       [4.300e+01, 1.000e+00, 9.250e+04, 4.000e+00, 1.000e+00, 0.000e+00,\n",
              "        0.000e+00],\n",
              "       [3.800e+01, 0.000e+00, 8.250e+04, 1.000e+00, 0.000e+00, 2.000e+00,\n",
              "        0.000e+00],\n",
              "       [3.200e+01, 1.000e+00, 5.500e+04, 0.000e+00, 1.000e+00, 0.000e+00,\n",
              "        1.000e+00],\n",
              "       [3.000e+01, 1.000e+00, 1.125e+05, 4.000e+00, 0.000e+00, 2.000e+00,\n",
              "        0.000e+00],\n",
              "       [5.000e+01, 1.000e+00, 1.550e+05, 4.000e+00, 0.000e+00, 0.000e+00,\n",
              "        0.000e+00],\n",
              "       [4.000e+01, 1.000e+00, 1.250e+05, 3.000e+00, 1.000e+00, 0.000e+00,\n",
              "        0.000e+00],\n",
              "       [5.200e+01, 1.000e+00, 1.250e+05, 3.000e+00, 0.000e+00, 0.000e+00,\n",
              "        0.000e+00],\n",
              "       [5.100e+01, 1.000e+00, 1.450e+05, 1.000e+00, 0.000e+00, 0.000e+00,\n",
              "        0.000e+00],\n",
              "       [3.600e+01, 0.000e+00, 8.500e+04, 4.000e+00, 0.000e+00, 2.000e+00,\n",
              "        0.000e+00],\n",
              "       [3.000e+01, 1.000e+00, 1.050e+05, 4.000e+00, 0.000e+00, 2.000e+00,\n",
              "        0.000e+00],\n",
              "       [4.200e+01, 0.000e+00, 1.000e+05, 4.000e+00, 1.000e+00, 0.000e+00,\n",
              "        0.000e+00],\n",
              "       [3.500e+01, 0.000e+00, 9.000e+04, 2.000e+00, 0.000e+00, 1.000e+00,\n",
              "        0.000e+00],\n",
              "       [3.400e+01, 1.000e+00, 4.750e+04, 0.000e+00, 1.000e+00, 0.000e+00,\n",
              "        1.000e+00],\n",
              "       [3.700e+01, 0.000e+00, 7.750e+04, 1.000e+00, 0.000e+00, 2.000e+00,\n",
              "        0.000e+00],\n",
              "       [4.300e+01, 1.000e+00, 9.250e+04, 4.000e+00, 1.000e+00, 0.000e+00,\n",
              "        0.000e+00],\n",
              "       [3.900e+01, 0.000e+00, 6.250e+04, 1.000e+00, 0.000e+00, 2.000e+00,\n",
              "        0.000e+00],\n",
              "       [2.500e+01, 0.000e+00, 5.750e+04, 1.000e+00, 1.000e+00, 0.000e+00,\n",
              "        1.000e+00],\n",
              "       [3.300e+01, 1.000e+00, 5.250e+04, 3.000e+00, 1.000e+00, 0.000e+00,\n",
              "        1.000e+00],\n",
              "       [4.400e+01, 1.000e+00, 8.750e+04, 4.000e+00, 1.000e+00, 0.000e+00,\n",
              "        0.000e+00],\n",
              "       [4.300e+01, 1.000e+00, 8.000e+04, 4.000e+00, 1.000e+00, 0.000e+00,\n",
              "        0.000e+00],\n",
              "       [4.900e+01, 0.000e+00, 7.750e+04, 2.000e+00, 0.000e+00, 1.000e+00,\n",
              "        0.000e+00],\n",
              "       [5.300e+01, 1.000e+00, 1.225e+05, 0.000e+00, 0.000e+00, 0.000e+00,\n",
              "        0.000e+00],\n",
              "       [3.300e+01, 0.000e+00, 8.200e+04, 4.000e+00, 0.000e+00, 1.000e+00,\n",
              "        0.000e+00],\n",
              "       [3.600e+01, 0.000e+00, 8.500e+04, 4.000e+00, 0.000e+00, 2.000e+00,\n",
              "        0.000e+00],\n",
              "       [3.300e+01, 0.000e+00, 5.250e+04, 3.000e+00, 1.000e+00, 0.000e+00,\n",
              "        1.000e+00],\n",
              "       [3.000e+01, 1.000e+00, 1.000e+05, 4.000e+00, 0.000e+00, 2.000e+00,\n",
              "        0.000e+00],\n",
              "       [5.300e+01, 1.000e+00, 1.225e+05, 0.000e+00, 0.000e+00, 0.000e+00,\n",
              "        0.000e+00],\n",
              "       [3.700e+01, 0.000e+00, 7.250e+04, 1.000e+00, 0.000e+00, 2.000e+00,\n",
              "        0.000e+00],\n",
              "       [3.100e+01, 1.000e+00, 9.500e+04, 2.000e+00, 1.000e+00, 0.000e+00,\n",
              "        1.000e+00],\n",
              "       [4.600e+01, 0.000e+00, 1.025e+05, 3.000e+00, 0.000e+00, 1.000e+00,\n",
              "        0.000e+00],\n",
              "       [2.600e+01, 0.000e+00, 5.000e+04, 0.000e+00, 1.000e+00, 0.000e+00,\n",
              "        1.000e+00],\n",
              "       [5.300e+01, 1.000e+00, 8.250e+04, 0.000e+00, 0.000e+00, 0.000e+00,\n",
              "        0.000e+00],\n",
              "       [3.900e+01, 0.000e+00, 6.250e+04, 1.000e+00, 0.000e+00, 2.000e+00,\n",
              "        0.000e+00],\n",
              "       [3.200e+01, 1.000e+00, 5.750e+04, 0.000e+00, 1.000e+00, 0.000e+00,\n",
              "        1.000e+00],\n",
              "       [4.900e+01, 0.000e+00, 7.750e+04, 2.000e+00, 0.000e+00, 1.000e+00,\n",
              "        0.000e+00],\n",
              "       [4.900e+01, 0.000e+00, 7.750e+04, 2.000e+00, 0.000e+00, 1.000e+00,\n",
              "        0.000e+00],\n",
              "       [3.800e+01, 0.000e+00, 6.500e+04, 1.000e+00, 0.000e+00, 2.000e+00,\n",
              "        0.000e+00],\n",
              "       [4.600e+01, 0.000e+00, 9.750e+04, 3.000e+00, 0.000e+00, 1.000e+00,\n",
              "        0.000e+00],\n",
              "       [3.200e+01, 1.000e+00, 5.750e+04, 0.000e+00, 1.000e+00, 0.000e+00,\n",
              "        1.000e+00],\n",
              "       [3.700e+01, 0.000e+00, 7.000e+04, 1.000e+00, 0.000e+00, 2.000e+00,\n",
              "        0.000e+00],\n",
              "       [3.500e+01, 0.000e+00, 8.500e+04, 2.000e+00, 0.000e+00, 1.000e+00,\n",
              "        0.000e+00],\n",
              "       [4.100e+01, 1.000e+00, 1.200e+05, 2.000e+00, 1.000e+00, 0.000e+00,\n",
              "        0.000e+00]])"
            ]
          },
          "metadata": {},
          "execution_count": 14
        }
      ]
    },
    {
      "cell_type": "code",
      "source": [
        "y_test"
      ],
      "metadata": {
        "id": "nYPwsqtjS9e6",
        "colab": {
          "base_uri": "https://localhost:8080/"
        },
        "outputId": "d25b5184-f776-46e0-c1ab-db9ef0dc07bb"
      },
      "execution_count": null,
      "outputs": [
        {
          "output_type": "execute_result",
          "data": {
            "text/plain": [
              "array(['Average', 'High', 'Average', 'High', 'High', 'Average', 'High',\n",
              "       'High', 'High', 'High', 'Average', 'Low', 'High', 'High', 'Low',\n",
              "       'High', 'High', 'Low', 'High', 'High', 'High', 'Low', 'Low',\n",
              "       'High', 'High', 'High', 'High', 'High', 'High', 'Average', 'High',\n",
              "       'High', 'High', 'High', 'High', 'High', 'High', 'Average', 'High',\n",
              "       'Low', 'High', 'Average', 'Low', 'Average', 'Average', 'Average',\n",
              "       'High', 'High', 'High', 'Average'], dtype=object)"
            ]
          },
          "metadata": {},
          "execution_count": 15
        }
      ]
    },
    {
      "cell_type": "code",
      "source": [
        "x_test"
      ],
      "metadata": {
        "id": "uMlXOeDzTAx7",
        "colab": {
          "base_uri": "https://localhost:8080/"
        },
        "outputId": "b0bf66b5-2e8a-43f0-9390-1ce99181c1d0"
      },
      "execution_count": null,
      "outputs": [
        {
          "output_type": "execute_result",
          "data": {
            "text/plain": [
              "array([[2.500e+01, 0.000e+00, 5.500e+04, 1.000e+00, 1.000e+00, 0.000e+00,\n",
              "        1.000e+00],\n",
              "       [4.800e+01, 0.000e+00, 8.250e+04, 2.000e+00, 0.000e+00, 1.000e+00,\n",
              "        0.000e+00],\n",
              "       [2.600e+01, 0.000e+00, 5.500e+04, 1.000e+00, 0.000e+00, 1.000e+00,\n",
              "        0.000e+00],\n",
              "       [3.900e+01, 0.000e+00, 6.250e+04, 1.000e+00, 0.000e+00, 2.000e+00,\n",
              "        0.000e+00],\n",
              "       [3.500e+01, 0.000e+00, 9.000e+04, 2.000e+00, 0.000e+00, 1.000e+00,\n",
              "        0.000e+00],\n",
              "       [2.500e+01, 0.000e+00, 5.500e+04, 1.000e+00, 1.000e+00, 0.000e+00,\n",
              "        1.000e+00],\n",
              "       [4.800e+01, 0.000e+00, 8.250e+04, 2.000e+00, 0.000e+00, 1.000e+00,\n",
              "        0.000e+00],\n",
              "       [4.800e+01, 0.000e+00, 8.250e+04, 2.000e+00, 0.000e+00, 1.000e+00,\n",
              "        0.000e+00],\n",
              "       [3.600e+01, 0.000e+00, 9.500e+04, 4.000e+00, 0.000e+00, 2.000e+00,\n",
              "        0.000e+00],\n",
              "       [4.600e+01, 0.000e+00, 9.500e+04, 3.000e+00, 0.000e+00, 1.000e+00,\n",
              "        0.000e+00],\n",
              "       [3.300e+01, 1.000e+00, 5.000e+04, 3.000e+00, 1.000e+00, 0.000e+00,\n",
              "        1.000e+00],\n",
              "       [2.900e+01, 0.000e+00, 2.750e+04, 3.000e+00, 1.000e+00, 0.000e+00,\n",
              "        1.000e+00],\n",
              "       [4.200e+01, 1.000e+00, 9.500e+04, 4.000e+00, 1.000e+00, 0.000e+00,\n",
              "        0.000e+00],\n",
              "       [5.000e+01, 1.000e+00, 1.600e+05, 4.000e+00, 0.000e+00, 0.000e+00,\n",
              "        0.000e+00],\n",
              "       [2.900e+01, 0.000e+00, 2.500e+04, 3.000e+00, 1.000e+00, 0.000e+00,\n",
              "        1.000e+00],\n",
              "       [3.000e+01, 1.000e+00, 1.050e+05, 4.000e+00, 0.000e+00, 2.000e+00,\n",
              "        0.000e+00],\n",
              "       [3.200e+01, 1.000e+00, 8.500e+04, 4.000e+00, 1.000e+00, 0.000e+00,\n",
              "        1.000e+00],\n",
              "       [2.700e+01, 0.000e+00, 3.750e+04, 3.000e+00, 1.000e+00, 0.000e+00,\n",
              "        1.000e+00],\n",
              "       [5.200e+01, 0.000e+00, 1.300e+05, 3.000e+00, 0.000e+00, 0.000e+00,\n",
              "        0.000e+00],\n",
              "       [4.700e+01, 0.000e+00, 8.500e+04, 2.000e+00, 0.000e+00, 1.000e+00,\n",
              "        0.000e+00],\n",
              "       [3.700e+01, 0.000e+00, 7.500e+04, 1.000e+00, 0.000e+00, 2.000e+00,\n",
              "        0.000e+00],\n",
              "       [2.800e+01, 0.000e+00, 3.000e+04, 0.000e+00, 1.000e+00, 0.000e+00,\n",
              "        1.000e+00],\n",
              "       [2.700e+01, 0.000e+00, 3.500e+04, 3.000e+00, 1.000e+00, 0.000e+00,\n",
              "        1.000e+00],\n",
              "       [4.100e+01, 1.000e+00, 1.050e+05, 2.000e+00, 1.000e+00, 0.000e+00,\n",
              "        0.000e+00],\n",
              "       [3.500e+01, 0.000e+00, 8.000e+04, 2.000e+00, 0.000e+00, 1.000e+00,\n",
              "        0.000e+00],\n",
              "       [3.800e+01, 0.000e+00, 6.750e+04, 1.000e+00, 0.000e+00, 2.000e+00,\n",
              "        0.000e+00],\n",
              "       [5.000e+01, 1.000e+00, 1.625e+05, 4.000e+00, 0.000e+00, 0.000e+00,\n",
              "        0.000e+00],\n",
              "       [4.400e+01, 1.000e+00, 8.750e+04, 4.000e+00, 1.000e+00, 0.000e+00,\n",
              "        0.000e+00],\n",
              "       [3.400e+01, 1.000e+00, 1.050e+05, 1.000e+00, 0.000e+00, 1.000e+00,\n",
              "        1.000e+00],\n",
              "       [3.400e+01, 1.000e+00, 4.750e+04, 0.000e+00, 1.000e+00, 0.000e+00,\n",
              "        1.000e+00],\n",
              "       [4.500e+01, 0.000e+00, 1.050e+05, 1.000e+00, 0.000e+00, 3.000e+00,\n",
              "        0.000e+00],\n",
              "       [5.200e+01, 1.000e+00, 1.350e+05, 3.000e+00, 0.000e+00, 0.000e+00,\n",
              "        0.000e+00],\n",
              "       [3.500e+01, 0.000e+00, 8.500e+04, 2.000e+00, 0.000e+00, 1.000e+00,\n",
              "        0.000e+00],\n",
              "       [5.300e+01, 1.000e+00, 1.250e+05, 0.000e+00, 0.000e+00, 0.000e+00,\n",
              "        0.000e+00],\n",
              "       [3.500e+01, 0.000e+00, 7.500e+04, 2.000e+00, 0.000e+00, 1.000e+00,\n",
              "        0.000e+00],\n",
              "       [3.000e+01, 1.000e+00, 1.175e+05, 4.000e+00, 0.000e+00, 2.000e+00,\n",
              "        0.000e+00],\n",
              "       [4.700e+01, 0.000e+00, 9.000e+04, 2.000e+00, 0.000e+00, 1.000e+00,\n",
              "        0.000e+00],\n",
              "       [3.200e+01, 1.000e+00, 5.750e+04, 0.000e+00, 1.000e+00, 0.000e+00,\n",
              "        1.000e+00],\n",
              "       [3.600e+01, 0.000e+00, 9.000e+04, 4.000e+00, 0.000e+00, 2.000e+00,\n",
              "        0.000e+00],\n",
              "       [2.800e+01, 0.000e+00, 3.250e+04, 0.000e+00, 1.000e+00, 0.000e+00,\n",
              "        1.000e+00],\n",
              "       [3.900e+01, 0.000e+00, 6.000e+04, 1.000e+00, 0.000e+00, 2.000e+00,\n",
              "        0.000e+00],\n",
              "       [2.600e+01, 0.000e+00, 4.500e+04, 0.000e+00, 1.000e+00, 0.000e+00,\n",
              "        1.000e+00],\n",
              "       [2.900e+01, 0.000e+00, 8.250e+04, 3.000e+00, 1.000e+00, 0.000e+00,\n",
              "        1.000e+00],\n",
              "       [2.500e+01, 0.000e+00, 6.250e+04, 1.000e+00, 1.000e+00, 0.000e+00,\n",
              "        1.000e+00],\n",
              "       [2.900e+01, 0.000e+00, 6.800e+04, 2.000e+00, 0.000e+00, 2.000e+00,\n",
              "        0.000e+00],\n",
              "       [3.100e+01, 1.000e+00, 6.500e+04, 1.000e+00, 1.000e+00, 0.000e+00,\n",
              "        1.000e+00],\n",
              "       [4.300e+01, 1.000e+00, 9.250e+04, 4.000e+00, 1.000e+00, 0.000e+00,\n",
              "        0.000e+00],\n",
              "       [4.800e+01, 0.000e+00, 7.000e+04, 2.000e+00, 0.000e+00, 1.000e+00,\n",
              "        0.000e+00],\n",
              "       [3.000e+01, 1.000e+00, 1.175e+05, 4.000e+00, 0.000e+00, 2.000e+00,\n",
              "        0.000e+00],\n",
              "       [2.600e+01, 0.000e+00, 4.750e+04, 0.000e+00, 1.000e+00, 0.000e+00,\n",
              "        1.000e+00]])"
            ]
          },
          "metadata": {},
          "execution_count": 16
        }
      ]
    },
    {
      "cell_type": "markdown",
      "source": [
        "**Normalizing the Dataset using minMaxScaler.**"
      ],
      "metadata": {
        "id": "iRAAJDEKBEdQ"
      }
    },
    {
      "cell_type": "code",
      "source": [
        "from sklearn.preprocessing import MinMaxScaler\n",
        "scaler=MinMaxScaler()\n",
        "scaler.fit(x_train)\n",
        "x_train=scaler.transform(x_train)\n",
        "x_test=scaler.transform(x_test)"
      ],
      "metadata": {
        "id": "VBHXi3gvrxnH"
      },
      "execution_count": null,
      "outputs": []
    },
    {
      "cell_type": "markdown",
      "source": [
        "**Model Creation using KNN Algorithm.**"
      ],
      "metadata": {
        "id": "acaCeW4pBsZF"
      }
    },
    {
      "cell_type": "code",
      "source": [
        "from sklearn.neighbors import KNeighborsClassifier\n",
        "knn=KNeighborsClassifier(n_neighbors=7)\n",
        "knn.fit(x_train,y_train)\n",
        "y_pred_knn=knn.predict(x_test)"
      ],
      "metadata": {
        "id": "Jr0uC6FRtBIr"
      },
      "execution_count": null,
      "outputs": []
    },
    {
      "cell_type": "markdown",
      "source": [
        "**Performance Evaluation.**"
      ],
      "metadata": {
        "id": "ybYN2wUDDhpm"
      }
    },
    {
      "cell_type": "code",
      "source": [
        "from sklearn.metrics import confusion_matrix,accuracy_score\n",
        "score=accuracy_score(y_pred_knn,y_test)\n",
        "matr=confusion_matrix(y_pred_knn,y_test)\n",
        "print(matr)\n",
        "score"
      ],
      "metadata": {
        "id": "LiZ70AVGteal",
        "colab": {
          "base_uri": "https://localhost:8080/"
        },
        "outputId": "3fad74ba-8851-4cfd-ed8e-d4130425aa4d"
      },
      "execution_count": null,
      "outputs": [
        {
          "output_type": "stream",
          "name": "stdout",
          "text": [
            "[[ 9  2  2]\n",
            " [ 2 30  0]\n",
            " [ 0  0  5]]\n"
          ]
        },
        {
          "output_type": "execute_result",
          "data": {
            "text/plain": [
              "0.88"
            ]
          },
          "metadata": {},
          "execution_count": 19
        }
      ]
    },
    {
      "cell_type": "code",
      "source": [
        "from sklearn.metrics import ConfusionMatrixDisplay\n",
        "label=['High','Average','Low']\n",
        "cmt=ConfusionMatrixDisplay(matr,display_labels=label)\n",
        "cmt.plot()"
      ],
      "metadata": {
        "id": "JQ_ny3qiubgb",
        "colab": {
          "base_uri": "https://localhost:8080/",
          "height": 472
        },
        "outputId": "603049e6-7b1e-4876-8976-57c8b0ba0956"
      },
      "execution_count": null,
      "outputs": [
        {
          "output_type": "execute_result",
          "data": {
            "text/plain": [
              "<sklearn.metrics._plot.confusion_matrix.ConfusionMatrixDisplay at 0x7e58faa95900>"
            ]
          },
          "metadata": {},
          "execution_count": 20
        },
        {
          "output_type": "display_data",
          "data": {
            "text/plain": [
              "<Figure size 640x480 with 2 Axes>"
            ],
            "image/png": "[encoded data removed]"
          },
          "metadata": {}
        }
      ]
    },
    {
      "cell_type": "markdown",
      "source": [
        "**Model Creation using Naive Bayes Algorithm.**"
      ],
      "metadata": {
        "id": "gKVEKl8dB3PX"
      }
    },
    {
      "cell_type": "code",
      "source": [
        "from sklearn.naive_bayes import GaussianNB\n",
        "model_nb=GaussianNB()\n",
        "model_nb.fit(x_train,y_train)\n",
        "y_pred_nb=model_nb.predict(x_test)"
      ],
      "metadata": {
        "id": "glox-xg7COIl"
      },
      "execution_count": null,
      "outputs": []
    },
    {
      "cell_type": "markdown",
      "source": [
        "**Performance Evaluation.**"
      ],
      "metadata": {
        "id": "vSUA69t-DeU8"
      }
    },
    {
      "cell_type": "code",
      "source": [
        "score_nb=accuracy_score(y_pred_nb,y_test)\n",
        "matr_nb=confusion_matrix(y_pred_nb,y_test)\n",
        "print(matr_nb)\n",
        "score_nb"
      ],
      "metadata": {
        "id": "0NYIfLEOCvbs",
        "colab": {
          "base_uri": "https://localhost:8080/"
        },
        "outputId": "360c63aa-49e7-4cf3-8ceb-d8fe87bd74c6"
      },
      "execution_count": null,
      "outputs": [
        {
          "output_type": "stream",
          "name": "stdout",
          "text": [
            "[[ 4  1  0]\n",
            " [ 2 31  0]\n",
            " [ 5  0  7]]\n"
          ]
        },
        {
          "output_type": "execute_result",
          "data": {
            "text/plain": [
              "0.84"
            ]
          },
          "metadata": {},
          "execution_count": 22
        }
      ]
    },
    {
      "cell_type": "code",
      "source": [
        "label=['High','Average','Low']\n",
        "cmt=ConfusionMatrixDisplay(matr_nb,display_labels=label)\n",
        "cmt.plot()"
      ],
      "metadata": {
        "id": "isCD0c92FX0g",
        "colab": {
          "base_uri": "https://localhost:8080/",
          "height": 466
        },
        "outputId": "8cd16fb0-502b-4fe2-921e-69bc4c8d6f6f"
      },
      "execution_count": null,
      "outputs": [
        {
          "output_type": "execute_result",
          "data": {
            "text/plain": [
              "<sklearn.metrics._plot.confusion_matrix.ConfusionMatrixDisplay at 0x7e58f9f8fa00>"
            ]
          },
          "metadata": {},
          "execution_count": 23
        },
        {
          "output_type": "display_data",
          "data": {
            "text/plain": [
              "<Figure size 640x480 with 2 Axes>"
            ],
            "image/png": "[encoded data removed]"
          },
          "metadata": {}
        }
      ]
    },
    {
      "cell_type": "markdown",
      "source": [
        "**Model Creation using SVM Algorithm.**"
      ],
      "metadata": {
        "id": "Fc-JjuW5D6Xv"
      }
    },
    {
      "cell_type": "code",
      "source": [
        "from sklearn.svm import SVC\n",
        "model_svm=SVC()\n",
        "model_svm.fit(x_train,y_train)\n",
        "y_pred_svm=model_svm.predict(x_test)"
      ],
      "metadata": {
        "id": "fyBjBRJBCvYh"
      },
      "execution_count": null,
      "outputs": []
    },
    {
      "cell_type": "markdown",
      "source": [
        "**Performance Evaluation.**"
      ],
      "metadata": {
        "id": "KKcR-NA_DQRl"
      }
    },
    {
      "cell_type": "code",
      "source": [
        "score_svm=accuracy_score(y_pred_svm,y_test)\n",
        "matr_svm=confusion_matrix(y_pred_svm,y_test)\n",
        "print(matr_svm)\n",
        "score_svm"
      ],
      "metadata": {
        "id": "587PHGvpEw5n",
        "colab": {
          "base_uri": "https://localhost:8080/"
        },
        "outputId": "39042acd-9ccb-4909-ec78-7440a3c8f849"
      },
      "execution_count": null,
      "outputs": [
        {
          "output_type": "stream",
          "name": "stdout",
          "text": [
            "[[ 9  1  3]\n",
            " [ 2 31  0]\n",
            " [ 0  0  4]]\n"
          ]
        },
        {
          "output_type": "execute_result",
          "data": {
            "text/plain": [
              "0.88"
            ]
          },
          "metadata": {},
          "execution_count": 25
        }
      ]
    },
    {
      "cell_type": "code",
      "source": [
        "label=['High','Average','Low']\n",
        "cmt=ConfusionMatrixDisplay(matr_svm,display_labels=label)\n",
        "cmt.plot()"
      ],
      "metadata": {
        "id": "DtX1Rjm1Fkco",
        "colab": {
          "base_uri": "https://localhost:8080/",
          "height": 466
        },
        "outputId": "87a179b5-d122-444b-d576-db20781b8e13"
      },
      "execution_count": null,
      "outputs": [
        {
          "output_type": "execute_result",
          "data": {
            "text/plain": [
              "<sklearn.metrics._plot.confusion_matrix.ConfusionMatrixDisplay at 0x7e58facc7e80>"
            ]
          },
          "metadata": {},
          "execution_count": 26
        },
        {
          "output_type": "display_data",
          "data": {
            "text/plain": [
              "<Figure size 640x480 with 2 Axes>"
            ],
            "image/png": "[encoded data removed]"
          },
          "metadata": {}
        }
      ]
    },
    {
      "cell_type": "markdown",
      "source": [
        "**RESULT** : SVM has higher accuracy score so that it is best model."
      ],
      "metadata": {
        "id": "WcmQxQGEFBvM"
      }
    }
  ]
}