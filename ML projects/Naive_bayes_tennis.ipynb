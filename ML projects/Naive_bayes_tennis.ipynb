{
  "nbformat": 4,
  "nbformat_minor": 0,
  "metadata": {
    "colab": {
      "provenance": []
    },
    "kernelspec": {
      "name": "python3",
      "display_name": "Python 3"
    },
    "language_info": {
      "name": "python"
    }
  },
  "cells": [
    {
      "cell_type": "code",
      "execution_count": 1,
      "metadata": {
        "id": "blvUK9tgg2rX"
      },
      "outputs": [],
      "source": [
        "outlook=['sunny','sunny','overcast','rainy','rainy','rainy','overcast','sunny','sunny','rainy','sunny','overcast','overcast','rainy']\n",
        "\n",
        "temperature=['hot','hot','hot','mild','cool','cool','cool','mild','cool','mild','mild','mild','hot','mild']\n",
        "\n",
        "humidity=['high','high','high','high','normal','normal','normal','high','normal','normal','normal','high','normal','high']\n",
        "\n",
        "wind=['weak','strong','weak','weak','weak','strong','strong','weak','weak','weak','strong','strong','weak','strong']\n",
        "\n",
        "play=['no','no','yes','yes','yes','no','yes','no','yes','yes','yes','yes','yes','no']"
      ]
    },
    {
      "cell_type": "code",
      "source": [
        "#here the input is string data ,so it is converted to numerical ,we use encoding techniques\n",
        "# 1) Label encoding\n",
        "# 2)One hot encoding\n",
        "# 3)Get-dummies\n",
        "# here we use label encoding"
      ],
      "metadata": {
        "id": "NUDogJlKhvJ_"
      },
      "execution_count": 2,
      "outputs": []
    },
    {
      "cell_type": "code",
      "source": [
        "#Label encoding\n",
        "from sklearn.preprocessing import LabelEncoder\n",
        "le=LabelEncoder()\n",
        "outlook_encoder=le.fit_transform(outlook)\n",
        "outlook_encoder"
      ],
      "metadata": {
        "id": "AbL9ZZBdjx4R",
        "colab": {
          "base_uri": "https://localhost:8080/"
        },
        "outputId": "ff303bc6-ecf0-4003-800b-3057f71aa2e4"
      },
      "execution_count": 3,
      "outputs": [
        {
          "output_type": "execute_result",
          "data": {
            "text/plain": [
              "array([2, 2, 0, 1, 1, 1, 0, 2, 2, 1, 2, 0, 0, 1])"
            ]
          },
          "metadata": {},
          "execution_count": 3
        }
      ]
    },
    {
      "cell_type": "code",
      "source": [
        "temperature_encoder=le.fit_transform(temperature)\n",
        "temperature_encoder"
      ],
      "metadata": {
        "id": "XThhXNLQk_y5",
        "colab": {
          "base_uri": "https://localhost:8080/"
        },
        "outputId": "b8bd5657-452c-4c0e-f354-735f17710a36"
      },
      "execution_count": 4,
      "outputs": [
        {
          "output_type": "execute_result",
          "data": {
            "text/plain": [
              "array([1, 1, 1, 2, 0, 0, 0, 2, 0, 2, 2, 2, 1, 2])"
            ]
          },
          "metadata": {},
          "execution_count": 4
        }
      ]
    },
    {
      "cell_type": "code",
      "source": [
        "humidity_encoder=le.fit_transform(humidity)\n",
        "humidity_encoder"
      ],
      "metadata": {
        "id": "FR5eVHyslZDA",
        "colab": {
          "base_uri": "https://localhost:8080/"
        },
        "outputId": "3696de2a-299a-4225-f313-8a8216473020"
      },
      "execution_count": 5,
      "outputs": [
        {
          "output_type": "execute_result",
          "data": {
            "text/plain": [
              "array([0, 0, 0, 0, 1, 1, 1, 0, 1, 1, 1, 0, 1, 0])"
            ]
          },
          "metadata": {},
          "execution_count": 5
        }
      ]
    },
    {
      "cell_type": "code",
      "source": [
        "wind_encoder=le.fit_transform(wind)\n",
        "wind_encoder"
      ],
      "metadata": {
        "id": "VHOJhdSVlj0Z",
        "colab": {
          "base_uri": "https://localhost:8080/"
        },
        "outputId": "b50786cd-a92c-4f83-aeda-8f90818b3b75"
      },
      "execution_count": 6,
      "outputs": [
        {
          "output_type": "execute_result",
          "data": {
            "text/plain": [
              "array([1, 0, 1, 1, 1, 0, 0, 1, 1, 1, 0, 0, 1, 0])"
            ]
          },
          "metadata": {},
          "execution_count": 6
        }
      ]
    },
    {
      "cell_type": "code",
      "source": [
        "#combining inputs with zip function"
      ],
      "metadata": {
        "id": "8ayt3fULmpCP"
      },
      "execution_count": 7,
      "outputs": []
    },
    {
      "cell_type": "code",
      "source": [
        "feature=list(zip(outlook_encoder,temperature_encoder,humidity_encoder,wind_encoder))\n",
        "feature"
      ],
      "metadata": {
        "id": "gnBgYnYamPtm",
        "colab": {
          "base_uri": "https://localhost:8080/"
        },
        "outputId": "982517f5-4a47-43a9-af26-35782ef0afee"
      },
      "execution_count": 8,
      "outputs": [
        {
          "output_type": "execute_result",
          "data": {
            "text/plain": [
              "[(2, 1, 0, 1),\n",
              " (2, 1, 0, 0),\n",
              " (0, 1, 0, 1),\n",
              " (1, 2, 0, 1),\n",
              " (1, 0, 1, 1),\n",
              " (1, 0, 1, 0),\n",
              " (0, 0, 1, 0),\n",
              " (2, 2, 0, 1),\n",
              " (2, 0, 1, 1),\n",
              " (1, 2, 1, 1),\n",
              " (2, 2, 1, 0),\n",
              " (0, 2, 0, 0),\n",
              " (0, 1, 1, 1),\n",
              " (1, 2, 0, 0)]"
            ]
          },
          "metadata": {},
          "execution_count": 8
        }
      ]
    },
    {
      "cell_type": "code",
      "source": [
        "# Model creation\n",
        "# 3 classifier in naive bayes :\n",
        "# a] Gaussian :continous data(input in numeric)\n",
        "# b] Multinomial :Discrete data[input in string]\n",
        "# c] Bernoulli : combination of discrete and continous\n",
        "# in this we use multinomial"
      ],
      "metadata": {
        "id": "Z8VEA422o8k4"
      },
      "execution_count": 9,
      "outputs": []
    },
    {
      "cell_type": "code",
      "source": [
        "from sklearn.naive_bayes import MultinomialNB\n",
        "model=MultinomialNB()\n",
        "model.fit(feature,play)    #input in feature and output in play\n",
        "y_pred=model.predict(feature)\n",
        "print(model.predict([[2,0,0,0]]))   #we use encoded inputs"
      ],
      "metadata": {
        "id": "EzAlB4Mdpf7Y",
        "colab": {
          "base_uri": "https://localhost:8080/"
        },
        "outputId": "1d4a2ec0-5638-4f92-c0d8-92d8eae9f7fd"
      },
      "execution_count": 14,
      "outputs": [
        {
          "output_type": "stream",
          "name": "stdout",
          "text": [
            "['no']\n"
          ]
        }
      ]
    },
    {
      "cell_type": "code",
      "source": [
        "from sklearn.metrics import confusion_matrix,accuracy_score\n",
        "matr=confusion_matrix(y_pred,play)\n",
        "print(matr)\n",
        "score=accuracy_score(y_pred,play)\n",
        "score"
      ],
      "metadata": {
        "colab": {
          "base_uri": "https://localhost:8080/"
        },
        "id": "o5nqdGfJgcrc",
        "outputId": "3f5501e8-88e4-4d71-bcea-26dc6f2d66c3"
      },
      "execution_count": 15,
      "outputs": [
        {
          "output_type": "stream",
          "name": "stdout",
          "text": [
            "[[3 0]\n",
            " [2 9]]\n"
          ]
        },
        {
          "output_type": "execute_result",
          "data": {
            "text/plain": [
              "0.8571428571428571"
            ]
          },
          "metadata": {},
          "execution_count": 15
        }
      ]
    },
    {
      "cell_type": "code",
      "source": [
        "from sklearn.metrics import ConfusionMatrixDisplay\n",
        "label=[0,1]\n",
        "cmd=ConfusionMatrixDisplay(matr,display_labels=label)\n",
        "cmd.plot()"
      ],
      "metadata": {
        "colab": {
          "base_uri": "https://localhost:8080/",
          "height": 472
        },
        "id": "X8oNZV3pg-or",
        "outputId": "169574f2-a2fc-461f-8685-e2b4fd5d37c6"
      },
      "execution_count": 16,
      "outputs": [
        {
          "output_type": "execute_result",
          "data": {
            "text/plain": [
              "<sklearn.metrics._plot.confusion_matrix.ConfusionMatrixDisplay at 0x7d63f4327f40>"
            ]
          },
          "metadata": {},
          "execution_count": 16
        },
        {
          "output_type": "display_data",
          "data": {
            "text/plain": [
              "<Figure size 640x480 with 2 Axes>"
            ],
            "image/png": "[encoded data removed]"
          },
          "metadata": {}
        }
      ]
    }
  ]
}